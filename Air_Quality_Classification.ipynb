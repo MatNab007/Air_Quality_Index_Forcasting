{
 "cells": [
  {
   "cell_type": "markdown",
   "id": "40809093",
   "metadata": {},
   "source": [
    "# Import Libraries"
   ]
  },
  {
   "cell_type": "code",
   "execution_count": 53,
   "id": "b6b56c90",
   "metadata": {},
   "outputs": [],
   "source": [
    "import numpy as np\n",
    "import pandas as pd\n",
    "import seaborn as sns\n",
    "import matplotlib.pyplot as plt\n",
    "\n",
    "from sklearn.preprocessing import LabelEncoder\n",
    "from sklearn.model_selection import train_test_split\n",
    "from sklearn.linear_model import LinearRegression\n",
    "from sklearn.tree import DecisionTreeRegressor\n",
    "from sklearn.ensemble import RandomForestRegressor\n",
    "from sklearn import metrics\n",
    "from sklearn.metrics import mean_absolute_error, mean_squared_error, r2_score\n",
    "from sklearn.metrics import accuracy_score, confusion_matrix"
   ]
  },
  {
   "cell_type": "markdown",
   "id": "562c169a",
   "metadata": {},
   "source": [
    "# Load Dataset"
   ]
  },
  {
   "cell_type": "code",
   "execution_count": 54,
   "id": "93b70074",
   "metadata": {
    "scrolled": false
   },
   "outputs": [
    {
     "data": {
      "text/html": [
       "<div>\n",
       "<style scoped>\n",
       "    .dataframe tbody tr th:only-of-type {\n",
       "        vertical-align: middle;\n",
       "    }\n",
       "\n",
       "    .dataframe tbody tr th {\n",
       "        vertical-align: top;\n",
       "    }\n",
       "\n",
       "    .dataframe thead th {\n",
       "        text-align: right;\n",
       "    }\n",
       "</style>\n",
       "<table border=\"1\" class=\"dataframe\">\n",
       "  <thead>\n",
       "    <tr style=\"text-align: right;\">\n",
       "      <th></th>\n",
       "      <th>Date</th>\n",
       "      <th>Time</th>\n",
       "      <th>CO(GT)</th>\n",
       "      <th>PT08.S1(CO)</th>\n",
       "      <th>NMHC(GT)</th>\n",
       "      <th>C6H6(GT)</th>\n",
       "      <th>PT08.S2(NMHC)</th>\n",
       "      <th>NOx(GT)</th>\n",
       "      <th>PT08.S3(NOx)</th>\n",
       "      <th>NO2(GT)</th>\n",
       "      <th>PT08.S4(NO2)</th>\n",
       "      <th>PT08.S5(O3)</th>\n",
       "      <th>T</th>\n",
       "      <th>RH</th>\n",
       "      <th>AH</th>\n",
       "      <th>Unnamed: 15</th>\n",
       "      <th>Unnamed: 16</th>\n",
       "    </tr>\n",
       "  </thead>\n",
       "  <tbody>\n",
       "    <tr>\n",
       "      <th>0</th>\n",
       "      <td>10/03/2004</td>\n",
       "      <td>18.00.00</td>\n",
       "      <td>2,6</td>\n",
       "      <td>1360.0</td>\n",
       "      <td>150.0</td>\n",
       "      <td>11,9</td>\n",
       "      <td>1046.0</td>\n",
       "      <td>166.0</td>\n",
       "      <td>1056.0</td>\n",
       "      <td>113.0</td>\n",
       "      <td>1692.0</td>\n",
       "      <td>1268.0</td>\n",
       "      <td>13,6</td>\n",
       "      <td>48,9</td>\n",
       "      <td>0,7578</td>\n",
       "      <td>NaN</td>\n",
       "      <td>NaN</td>\n",
       "    </tr>\n",
       "    <tr>\n",
       "      <th>1</th>\n",
       "      <td>10/03/2004</td>\n",
       "      <td>19.00.00</td>\n",
       "      <td>2</td>\n",
       "      <td>1292.0</td>\n",
       "      <td>112.0</td>\n",
       "      <td>9,4</td>\n",
       "      <td>955.0</td>\n",
       "      <td>103.0</td>\n",
       "      <td>1174.0</td>\n",
       "      <td>92.0</td>\n",
       "      <td>1559.0</td>\n",
       "      <td>972.0</td>\n",
       "      <td>13,3</td>\n",
       "      <td>47,7</td>\n",
       "      <td>0,7255</td>\n",
       "      <td>NaN</td>\n",
       "      <td>NaN</td>\n",
       "    </tr>\n",
       "    <tr>\n",
       "      <th>2</th>\n",
       "      <td>10/03/2004</td>\n",
       "      <td>20.00.00</td>\n",
       "      <td>2,2</td>\n",
       "      <td>1402.0</td>\n",
       "      <td>88.0</td>\n",
       "      <td>9,0</td>\n",
       "      <td>939.0</td>\n",
       "      <td>131.0</td>\n",
       "      <td>1140.0</td>\n",
       "      <td>114.0</td>\n",
       "      <td>1555.0</td>\n",
       "      <td>1074.0</td>\n",
       "      <td>11,9</td>\n",
       "      <td>54,0</td>\n",
       "      <td>0,7502</td>\n",
       "      <td>NaN</td>\n",
       "      <td>NaN</td>\n",
       "    </tr>\n",
       "    <tr>\n",
       "      <th>3</th>\n",
       "      <td>10/03/2004</td>\n",
       "      <td>21.00.00</td>\n",
       "      <td>2,2</td>\n",
       "      <td>1376.0</td>\n",
       "      <td>80.0</td>\n",
       "      <td>9,2</td>\n",
       "      <td>948.0</td>\n",
       "      <td>172.0</td>\n",
       "      <td>1092.0</td>\n",
       "      <td>122.0</td>\n",
       "      <td>1584.0</td>\n",
       "      <td>1203.0</td>\n",
       "      <td>11,0</td>\n",
       "      <td>60,0</td>\n",
       "      <td>0,7867</td>\n",
       "      <td>NaN</td>\n",
       "      <td>NaN</td>\n",
       "    </tr>\n",
       "    <tr>\n",
       "      <th>4</th>\n",
       "      <td>10/03/2004</td>\n",
       "      <td>22.00.00</td>\n",
       "      <td>1,6</td>\n",
       "      <td>1272.0</td>\n",
       "      <td>51.0</td>\n",
       "      <td>6,5</td>\n",
       "      <td>836.0</td>\n",
       "      <td>131.0</td>\n",
       "      <td>1205.0</td>\n",
       "      <td>116.0</td>\n",
       "      <td>1490.0</td>\n",
       "      <td>1110.0</td>\n",
       "      <td>11,2</td>\n",
       "      <td>59,6</td>\n",
       "      <td>0,7888</td>\n",
       "      <td>NaN</td>\n",
       "      <td>NaN</td>\n",
       "    </tr>\n",
       "    <tr>\n",
       "      <th>...</th>\n",
       "      <td>...</td>\n",
       "      <td>...</td>\n",
       "      <td>...</td>\n",
       "      <td>...</td>\n",
       "      <td>...</td>\n",
       "      <td>...</td>\n",
       "      <td>...</td>\n",
       "      <td>...</td>\n",
       "      <td>...</td>\n",
       "      <td>...</td>\n",
       "      <td>...</td>\n",
       "      <td>...</td>\n",
       "      <td>...</td>\n",
       "      <td>...</td>\n",
       "      <td>...</td>\n",
       "      <td>...</td>\n",
       "      <td>...</td>\n",
       "    </tr>\n",
       "    <tr>\n",
       "      <th>9466</th>\n",
       "      <td>NaN</td>\n",
       "      <td>NaN</td>\n",
       "      <td>NaN</td>\n",
       "      <td>NaN</td>\n",
       "      <td>NaN</td>\n",
       "      <td>NaN</td>\n",
       "      <td>NaN</td>\n",
       "      <td>NaN</td>\n",
       "      <td>NaN</td>\n",
       "      <td>NaN</td>\n",
       "      <td>NaN</td>\n",
       "      <td>NaN</td>\n",
       "      <td>NaN</td>\n",
       "      <td>NaN</td>\n",
       "      <td>NaN</td>\n",
       "      <td>NaN</td>\n",
       "      <td>NaN</td>\n",
       "    </tr>\n",
       "    <tr>\n",
       "      <th>9467</th>\n",
       "      <td>NaN</td>\n",
       "      <td>NaN</td>\n",
       "      <td>NaN</td>\n",
       "      <td>NaN</td>\n",
       "      <td>NaN</td>\n",
       "      <td>NaN</td>\n",
       "      <td>NaN</td>\n",
       "      <td>NaN</td>\n",
       "      <td>NaN</td>\n",
       "      <td>NaN</td>\n",
       "      <td>NaN</td>\n",
       "      <td>NaN</td>\n",
       "      <td>NaN</td>\n",
       "      <td>NaN</td>\n",
       "      <td>NaN</td>\n",
       "      <td>NaN</td>\n",
       "      <td>NaN</td>\n",
       "    </tr>\n",
       "    <tr>\n",
       "      <th>9468</th>\n",
       "      <td>NaN</td>\n",
       "      <td>NaN</td>\n",
       "      <td>NaN</td>\n",
       "      <td>NaN</td>\n",
       "      <td>NaN</td>\n",
       "      <td>NaN</td>\n",
       "      <td>NaN</td>\n",
       "      <td>NaN</td>\n",
       "      <td>NaN</td>\n",
       "      <td>NaN</td>\n",
       "      <td>NaN</td>\n",
       "      <td>NaN</td>\n",
       "      <td>NaN</td>\n",
       "      <td>NaN</td>\n",
       "      <td>NaN</td>\n",
       "      <td>NaN</td>\n",
       "      <td>NaN</td>\n",
       "    </tr>\n",
       "    <tr>\n",
       "      <th>9469</th>\n",
       "      <td>NaN</td>\n",
       "      <td>NaN</td>\n",
       "      <td>NaN</td>\n",
       "      <td>NaN</td>\n",
       "      <td>NaN</td>\n",
       "      <td>NaN</td>\n",
       "      <td>NaN</td>\n",
       "      <td>NaN</td>\n",
       "      <td>NaN</td>\n",
       "      <td>NaN</td>\n",
       "      <td>NaN</td>\n",
       "      <td>NaN</td>\n",
       "      <td>NaN</td>\n",
       "      <td>NaN</td>\n",
       "      <td>NaN</td>\n",
       "      <td>NaN</td>\n",
       "      <td>NaN</td>\n",
       "    </tr>\n",
       "    <tr>\n",
       "      <th>9470</th>\n",
       "      <td>NaN</td>\n",
       "      <td>NaN</td>\n",
       "      <td>NaN</td>\n",
       "      <td>NaN</td>\n",
       "      <td>NaN</td>\n",
       "      <td>NaN</td>\n",
       "      <td>NaN</td>\n",
       "      <td>NaN</td>\n",
       "      <td>NaN</td>\n",
       "      <td>NaN</td>\n",
       "      <td>NaN</td>\n",
       "      <td>NaN</td>\n",
       "      <td>NaN</td>\n",
       "      <td>NaN</td>\n",
       "      <td>NaN</td>\n",
       "      <td>NaN</td>\n",
       "      <td>NaN</td>\n",
       "    </tr>\n",
       "  </tbody>\n",
       "</table>\n",
       "<p>9471 rows × 17 columns</p>\n",
       "</div>"
      ],
      "text/plain": [
       "            Date      Time CO(GT)  PT08.S1(CO)  NMHC(GT) C6H6(GT)  \\\n",
       "0     10/03/2004  18.00.00    2,6       1360.0     150.0     11,9   \n",
       "1     10/03/2004  19.00.00      2       1292.0     112.0      9,4   \n",
       "2     10/03/2004  20.00.00    2,2       1402.0      88.0      9,0   \n",
       "3     10/03/2004  21.00.00    2,2       1376.0      80.0      9,2   \n",
       "4     10/03/2004  22.00.00    1,6       1272.0      51.0      6,5   \n",
       "...          ...       ...    ...          ...       ...      ...   \n",
       "9466         NaN       NaN    NaN          NaN       NaN      NaN   \n",
       "9467         NaN       NaN    NaN          NaN       NaN      NaN   \n",
       "9468         NaN       NaN    NaN          NaN       NaN      NaN   \n",
       "9469         NaN       NaN    NaN          NaN       NaN      NaN   \n",
       "9470         NaN       NaN    NaN          NaN       NaN      NaN   \n",
       "\n",
       "      PT08.S2(NMHC)  NOx(GT)  PT08.S3(NOx)  NO2(GT)  PT08.S4(NO2)  \\\n",
       "0            1046.0    166.0        1056.0    113.0        1692.0   \n",
       "1             955.0    103.0        1174.0     92.0        1559.0   \n",
       "2             939.0    131.0        1140.0    114.0        1555.0   \n",
       "3             948.0    172.0        1092.0    122.0        1584.0   \n",
       "4             836.0    131.0        1205.0    116.0        1490.0   \n",
       "...             ...      ...           ...      ...           ...   \n",
       "9466            NaN      NaN           NaN      NaN           NaN   \n",
       "9467            NaN      NaN           NaN      NaN           NaN   \n",
       "9468            NaN      NaN           NaN      NaN           NaN   \n",
       "9469            NaN      NaN           NaN      NaN           NaN   \n",
       "9470            NaN      NaN           NaN      NaN           NaN   \n",
       "\n",
       "      PT08.S5(O3)     T    RH      AH  Unnamed: 15  Unnamed: 16  \n",
       "0          1268.0  13,6  48,9  0,7578          NaN          NaN  \n",
       "1           972.0  13,3  47,7  0,7255          NaN          NaN  \n",
       "2          1074.0  11,9  54,0  0,7502          NaN          NaN  \n",
       "3          1203.0  11,0  60,0  0,7867          NaN          NaN  \n",
       "4          1110.0  11,2  59,6  0,7888          NaN          NaN  \n",
       "...           ...   ...   ...     ...          ...          ...  \n",
       "9466          NaN   NaN   NaN     NaN          NaN          NaN  \n",
       "9467          NaN   NaN   NaN     NaN          NaN          NaN  \n",
       "9468          NaN   NaN   NaN     NaN          NaN          NaN  \n",
       "9469          NaN   NaN   NaN     NaN          NaN          NaN  \n",
       "9470          NaN   NaN   NaN     NaN          NaN          NaN  \n",
       "\n",
       "[9471 rows x 17 columns]"
      ]
     },
     "execution_count": 54,
     "metadata": {},
     "output_type": "execute_result"
    }
   ],
   "source": [
    "df = pd.read_csv('D:\\Reasearch_Topic\\Dataset/AirQuality.csv', sep=';')\n",
    "df"
   ]
  },
  {
   "cell_type": "markdown",
   "id": "85a1a75d",
   "metadata": {},
   "source": [
    "# Data Understanding"
   ]
  },
  {
   "cell_type": "code",
   "execution_count": 55,
   "id": "08efca68",
   "metadata": {
    "scrolled": false
   },
   "outputs": [
    {
     "data": {
      "text/html": [
       "<div>\n",
       "<style scoped>\n",
       "    .dataframe tbody tr th:only-of-type {\n",
       "        vertical-align: middle;\n",
       "    }\n",
       "\n",
       "    .dataframe tbody tr th {\n",
       "        vertical-align: top;\n",
       "    }\n",
       "\n",
       "    .dataframe thead th {\n",
       "        text-align: right;\n",
       "    }\n",
       "</style>\n",
       "<table border=\"1\" class=\"dataframe\">\n",
       "  <thead>\n",
       "    <tr style=\"text-align: right;\">\n",
       "      <th></th>\n",
       "      <th>Date</th>\n",
       "      <th>Time</th>\n",
       "      <th>CO(GT)</th>\n",
       "      <th>PT08.S1(CO)</th>\n",
       "      <th>NMHC(GT)</th>\n",
       "      <th>C6H6(GT)</th>\n",
       "      <th>PT08.S2(NMHC)</th>\n",
       "      <th>NOx(GT)</th>\n",
       "      <th>PT08.S3(NOx)</th>\n",
       "      <th>NO2(GT)</th>\n",
       "      <th>PT08.S4(NO2)</th>\n",
       "      <th>PT08.S5(O3)</th>\n",
       "      <th>T</th>\n",
       "      <th>RH</th>\n",
       "      <th>AH</th>\n",
       "      <th>Unnamed: 15</th>\n",
       "      <th>Unnamed: 16</th>\n",
       "    </tr>\n",
       "  </thead>\n",
       "  <tbody>\n",
       "    <tr>\n",
       "      <th>0</th>\n",
       "      <td>10/03/2004</td>\n",
       "      <td>18.00.00</td>\n",
       "      <td>2,6</td>\n",
       "      <td>1360.0</td>\n",
       "      <td>150.0</td>\n",
       "      <td>11,9</td>\n",
       "      <td>1046.0</td>\n",
       "      <td>166.0</td>\n",
       "      <td>1056.0</td>\n",
       "      <td>113.0</td>\n",
       "      <td>1692.0</td>\n",
       "      <td>1268.0</td>\n",
       "      <td>13,6</td>\n",
       "      <td>48,9</td>\n",
       "      <td>0,7578</td>\n",
       "      <td>NaN</td>\n",
       "      <td>NaN</td>\n",
       "    </tr>\n",
       "    <tr>\n",
       "      <th>1</th>\n",
       "      <td>10/03/2004</td>\n",
       "      <td>19.00.00</td>\n",
       "      <td>2</td>\n",
       "      <td>1292.0</td>\n",
       "      <td>112.0</td>\n",
       "      <td>9,4</td>\n",
       "      <td>955.0</td>\n",
       "      <td>103.0</td>\n",
       "      <td>1174.0</td>\n",
       "      <td>92.0</td>\n",
       "      <td>1559.0</td>\n",
       "      <td>972.0</td>\n",
       "      <td>13,3</td>\n",
       "      <td>47,7</td>\n",
       "      <td>0,7255</td>\n",
       "      <td>NaN</td>\n",
       "      <td>NaN</td>\n",
       "    </tr>\n",
       "    <tr>\n",
       "      <th>2</th>\n",
       "      <td>10/03/2004</td>\n",
       "      <td>20.00.00</td>\n",
       "      <td>2,2</td>\n",
       "      <td>1402.0</td>\n",
       "      <td>88.0</td>\n",
       "      <td>9,0</td>\n",
       "      <td>939.0</td>\n",
       "      <td>131.0</td>\n",
       "      <td>1140.0</td>\n",
       "      <td>114.0</td>\n",
       "      <td>1555.0</td>\n",
       "      <td>1074.0</td>\n",
       "      <td>11,9</td>\n",
       "      <td>54,0</td>\n",
       "      <td>0,7502</td>\n",
       "      <td>NaN</td>\n",
       "      <td>NaN</td>\n",
       "    </tr>\n",
       "    <tr>\n",
       "      <th>3</th>\n",
       "      <td>10/03/2004</td>\n",
       "      <td>21.00.00</td>\n",
       "      <td>2,2</td>\n",
       "      <td>1376.0</td>\n",
       "      <td>80.0</td>\n",
       "      <td>9,2</td>\n",
       "      <td>948.0</td>\n",
       "      <td>172.0</td>\n",
       "      <td>1092.0</td>\n",
       "      <td>122.0</td>\n",
       "      <td>1584.0</td>\n",
       "      <td>1203.0</td>\n",
       "      <td>11,0</td>\n",
       "      <td>60,0</td>\n",
       "      <td>0,7867</td>\n",
       "      <td>NaN</td>\n",
       "      <td>NaN</td>\n",
       "    </tr>\n",
       "    <tr>\n",
       "      <th>4</th>\n",
       "      <td>10/03/2004</td>\n",
       "      <td>22.00.00</td>\n",
       "      <td>1,6</td>\n",
       "      <td>1272.0</td>\n",
       "      <td>51.0</td>\n",
       "      <td>6,5</td>\n",
       "      <td>836.0</td>\n",
       "      <td>131.0</td>\n",
       "      <td>1205.0</td>\n",
       "      <td>116.0</td>\n",
       "      <td>1490.0</td>\n",
       "      <td>1110.0</td>\n",
       "      <td>11,2</td>\n",
       "      <td>59,6</td>\n",
       "      <td>0,7888</td>\n",
       "      <td>NaN</td>\n",
       "      <td>NaN</td>\n",
       "    </tr>\n",
       "  </tbody>\n",
       "</table>\n",
       "</div>"
      ],
      "text/plain": [
       "         Date      Time CO(GT)  PT08.S1(CO)  NMHC(GT) C6H6(GT)  PT08.S2(NMHC)  \\\n",
       "0  10/03/2004  18.00.00    2,6       1360.0     150.0     11,9         1046.0   \n",
       "1  10/03/2004  19.00.00      2       1292.0     112.0      9,4          955.0   \n",
       "2  10/03/2004  20.00.00    2,2       1402.0      88.0      9,0          939.0   \n",
       "3  10/03/2004  21.00.00    2,2       1376.0      80.0      9,2          948.0   \n",
       "4  10/03/2004  22.00.00    1,6       1272.0      51.0      6,5          836.0   \n",
       "\n",
       "   NOx(GT)  PT08.S3(NOx)  NO2(GT)  PT08.S4(NO2)  PT08.S5(O3)     T    RH  \\\n",
       "0    166.0        1056.0    113.0        1692.0       1268.0  13,6  48,9   \n",
       "1    103.0        1174.0     92.0        1559.0        972.0  13,3  47,7   \n",
       "2    131.0        1140.0    114.0        1555.0       1074.0  11,9  54,0   \n",
       "3    172.0        1092.0    122.0        1584.0       1203.0  11,0  60,0   \n",
       "4    131.0        1205.0    116.0        1490.0       1110.0  11,2  59,6   \n",
       "\n",
       "       AH  Unnamed: 15  Unnamed: 16  \n",
       "0  0,7578          NaN          NaN  \n",
       "1  0,7255          NaN          NaN  \n",
       "2  0,7502          NaN          NaN  \n",
       "3  0,7867          NaN          NaN  \n",
       "4  0,7888          NaN          NaN  "
      ]
     },
     "execution_count": 55,
     "metadata": {},
     "output_type": "execute_result"
    }
   ],
   "source": [
    "df.head()"
   ]
  },
  {
   "cell_type": "code",
   "execution_count": 56,
   "id": "aefb6d65",
   "metadata": {
    "scrolled": true
   },
   "outputs": [
    {
     "data": {
      "text/html": [
       "<div>\n",
       "<style scoped>\n",
       "    .dataframe tbody tr th:only-of-type {\n",
       "        vertical-align: middle;\n",
       "    }\n",
       "\n",
       "    .dataframe tbody tr th {\n",
       "        vertical-align: top;\n",
       "    }\n",
       "\n",
       "    .dataframe thead th {\n",
       "        text-align: right;\n",
       "    }\n",
       "</style>\n",
       "<table border=\"1\" class=\"dataframe\">\n",
       "  <thead>\n",
       "    <tr style=\"text-align: right;\">\n",
       "      <th></th>\n",
       "      <th>PT08.S1(CO)</th>\n",
       "      <th>NMHC(GT)</th>\n",
       "      <th>PT08.S2(NMHC)</th>\n",
       "      <th>NOx(GT)</th>\n",
       "      <th>PT08.S3(NOx)</th>\n",
       "      <th>NO2(GT)</th>\n",
       "      <th>PT08.S4(NO2)</th>\n",
       "      <th>PT08.S5(O3)</th>\n",
       "      <th>Unnamed: 15</th>\n",
       "      <th>Unnamed: 16</th>\n",
       "    </tr>\n",
       "  </thead>\n",
       "  <tbody>\n",
       "    <tr>\n",
       "      <th>count</th>\n",
       "      <td>9357.000000</td>\n",
       "      <td>9357.000000</td>\n",
       "      <td>9357.000000</td>\n",
       "      <td>9357.000000</td>\n",
       "      <td>9357.000000</td>\n",
       "      <td>9357.000000</td>\n",
       "      <td>9357.000000</td>\n",
       "      <td>9357.000000</td>\n",
       "      <td>0.0</td>\n",
       "      <td>0.0</td>\n",
       "    </tr>\n",
       "    <tr>\n",
       "      <th>mean</th>\n",
       "      <td>1048.990061</td>\n",
       "      <td>-159.090093</td>\n",
       "      <td>894.595276</td>\n",
       "      <td>168.616971</td>\n",
       "      <td>794.990168</td>\n",
       "      <td>58.148873</td>\n",
       "      <td>1391.479641</td>\n",
       "      <td>975.072032</td>\n",
       "      <td>NaN</td>\n",
       "      <td>NaN</td>\n",
       "    </tr>\n",
       "    <tr>\n",
       "      <th>std</th>\n",
       "      <td>329.832710</td>\n",
       "      <td>139.789093</td>\n",
       "      <td>342.333252</td>\n",
       "      <td>257.433866</td>\n",
       "      <td>321.993552</td>\n",
       "      <td>126.940455</td>\n",
       "      <td>467.210125</td>\n",
       "      <td>456.938184</td>\n",
       "      <td>NaN</td>\n",
       "      <td>NaN</td>\n",
       "    </tr>\n",
       "    <tr>\n",
       "      <th>min</th>\n",
       "      <td>-200.000000</td>\n",
       "      <td>-200.000000</td>\n",
       "      <td>-200.000000</td>\n",
       "      <td>-200.000000</td>\n",
       "      <td>-200.000000</td>\n",
       "      <td>-200.000000</td>\n",
       "      <td>-200.000000</td>\n",
       "      <td>-200.000000</td>\n",
       "      <td>NaN</td>\n",
       "      <td>NaN</td>\n",
       "    </tr>\n",
       "    <tr>\n",
       "      <th>25%</th>\n",
       "      <td>921.000000</td>\n",
       "      <td>-200.000000</td>\n",
       "      <td>711.000000</td>\n",
       "      <td>50.000000</td>\n",
       "      <td>637.000000</td>\n",
       "      <td>53.000000</td>\n",
       "      <td>1185.000000</td>\n",
       "      <td>700.000000</td>\n",
       "      <td>NaN</td>\n",
       "      <td>NaN</td>\n",
       "    </tr>\n",
       "    <tr>\n",
       "      <th>50%</th>\n",
       "      <td>1053.000000</td>\n",
       "      <td>-200.000000</td>\n",
       "      <td>895.000000</td>\n",
       "      <td>141.000000</td>\n",
       "      <td>794.000000</td>\n",
       "      <td>96.000000</td>\n",
       "      <td>1446.000000</td>\n",
       "      <td>942.000000</td>\n",
       "      <td>NaN</td>\n",
       "      <td>NaN</td>\n",
       "    </tr>\n",
       "    <tr>\n",
       "      <th>75%</th>\n",
       "      <td>1221.000000</td>\n",
       "      <td>-200.000000</td>\n",
       "      <td>1105.000000</td>\n",
       "      <td>284.000000</td>\n",
       "      <td>960.000000</td>\n",
       "      <td>133.000000</td>\n",
       "      <td>1662.000000</td>\n",
       "      <td>1255.000000</td>\n",
       "      <td>NaN</td>\n",
       "      <td>NaN</td>\n",
       "    </tr>\n",
       "    <tr>\n",
       "      <th>max</th>\n",
       "      <td>2040.000000</td>\n",
       "      <td>1189.000000</td>\n",
       "      <td>2214.000000</td>\n",
       "      <td>1479.000000</td>\n",
       "      <td>2683.000000</td>\n",
       "      <td>340.000000</td>\n",
       "      <td>2775.000000</td>\n",
       "      <td>2523.000000</td>\n",
       "      <td>NaN</td>\n",
       "      <td>NaN</td>\n",
       "    </tr>\n",
       "  </tbody>\n",
       "</table>\n",
       "</div>"
      ],
      "text/plain": [
       "       PT08.S1(CO)     NMHC(GT)  PT08.S2(NMHC)      NOx(GT)  PT08.S3(NOx)  \\\n",
       "count  9357.000000  9357.000000    9357.000000  9357.000000   9357.000000   \n",
       "mean   1048.990061  -159.090093     894.595276   168.616971    794.990168   \n",
       "std     329.832710   139.789093     342.333252   257.433866    321.993552   \n",
       "min    -200.000000  -200.000000    -200.000000  -200.000000   -200.000000   \n",
       "25%     921.000000  -200.000000     711.000000    50.000000    637.000000   \n",
       "50%    1053.000000  -200.000000     895.000000   141.000000    794.000000   \n",
       "75%    1221.000000  -200.000000    1105.000000   284.000000    960.000000   \n",
       "max    2040.000000  1189.000000    2214.000000  1479.000000   2683.000000   \n",
       "\n",
       "           NO2(GT)  PT08.S4(NO2)  PT08.S5(O3)  Unnamed: 15  Unnamed: 16  \n",
       "count  9357.000000   9357.000000  9357.000000          0.0          0.0  \n",
       "mean     58.148873   1391.479641   975.072032          NaN          NaN  \n",
       "std     126.940455    467.210125   456.938184          NaN          NaN  \n",
       "min    -200.000000   -200.000000  -200.000000          NaN          NaN  \n",
       "25%      53.000000   1185.000000   700.000000          NaN          NaN  \n",
       "50%      96.000000   1446.000000   942.000000          NaN          NaN  \n",
       "75%     133.000000   1662.000000  1255.000000          NaN          NaN  \n",
       "max     340.000000   2775.000000  2523.000000          NaN          NaN  "
      ]
     },
     "execution_count": 56,
     "metadata": {},
     "output_type": "execute_result"
    }
   ],
   "source": [
    "df.describe()"
   ]
  },
  {
   "cell_type": "code",
   "execution_count": 57,
   "id": "a0916760",
   "metadata": {
    "scrolled": false
   },
   "outputs": [
    {
     "name": "stdout",
     "output_type": "stream",
     "text": [
      "<class 'pandas.core.frame.DataFrame'>\n",
      "RangeIndex: 9471 entries, 0 to 9470\n",
      "Data columns (total 17 columns):\n",
      " #   Column         Non-Null Count  Dtype  \n",
      "---  ------         --------------  -----  \n",
      " 0   Date           9357 non-null   object \n",
      " 1   Time           9357 non-null   object \n",
      " 2   CO(GT)         9357 non-null   object \n",
      " 3   PT08.S1(CO)    9357 non-null   float64\n",
      " 4   NMHC(GT)       9357 non-null   float64\n",
      " 5   C6H6(GT)       9357 non-null   object \n",
      " 6   PT08.S2(NMHC)  9357 non-null   float64\n",
      " 7   NOx(GT)        9357 non-null   float64\n",
      " 8   PT08.S3(NOx)   9357 non-null   float64\n",
      " 9   NO2(GT)        9357 non-null   float64\n",
      " 10  PT08.S4(NO2)   9357 non-null   float64\n",
      " 11  PT08.S5(O3)    9357 non-null   float64\n",
      " 12  T              9357 non-null   object \n",
      " 13  RH             9357 non-null   object \n",
      " 14  AH             9357 non-null   object \n",
      " 15  Unnamed: 15    0 non-null      float64\n",
      " 16  Unnamed: 16    0 non-null      float64\n",
      "dtypes: float64(10), object(7)\n",
      "memory usage: 1.2+ MB\n"
     ]
    }
   ],
   "source": [
    "df.info()"
   ]
  },
  {
   "cell_type": "code",
   "execution_count": 58,
   "id": "5110f446",
   "metadata": {
    "scrolled": false
   },
   "outputs": [
    {
     "data": {
      "text/plain": [
       "Date              114\n",
       "Time              114\n",
       "CO(GT)            114\n",
       "PT08.S1(CO)       114\n",
       "NMHC(GT)          114\n",
       "C6H6(GT)          114\n",
       "PT08.S2(NMHC)     114\n",
       "NOx(GT)           114\n",
       "PT08.S3(NOx)      114\n",
       "NO2(GT)           114\n",
       "PT08.S4(NO2)      114\n",
       "PT08.S5(O3)       114\n",
       "T                 114\n",
       "RH                114\n",
       "AH                114\n",
       "Unnamed: 15      9471\n",
       "Unnamed: 16      9471\n",
       "dtype: int64"
      ]
     },
     "execution_count": 58,
     "metadata": {},
     "output_type": "execute_result"
    }
   ],
   "source": [
    "df.isnull().sum()"
   ]
  },
  {
   "cell_type": "code",
   "execution_count": 59,
   "id": "219bc88b",
   "metadata": {
    "scrolled": false
   },
   "outputs": [
    {
     "data": {
      "text/plain": [
       "Date              391\n",
       "Time               24\n",
       "CO(GT)            104\n",
       "PT08.S1(CO)      1042\n",
       "NMHC(GT)          430\n",
       "C6H6(GT)          408\n",
       "PT08.S2(NMHC)    1246\n",
       "NOx(GT)           926\n",
       "PT08.S3(NOx)     1222\n",
       "NO2(GT)           284\n",
       "PT08.S4(NO2)     1604\n",
       "PT08.S5(O3)      1744\n",
       "T                 437\n",
       "RH                754\n",
       "AH               6684\n",
       "Unnamed: 15         0\n",
       "Unnamed: 16         0\n",
       "dtype: int64"
      ]
     },
     "execution_count": 59,
     "metadata": {},
     "output_type": "execute_result"
    }
   ],
   "source": [
    "df.nunique()"
   ]
  },
  {
   "cell_type": "code",
   "execution_count": 60,
   "id": "68fdfe6f",
   "metadata": {
    "scrolled": true
   },
   "outputs": [
    {
     "data": {
      "text/plain": [
       "Index(['Date', 'Time', 'CO(GT)', 'PT08.S1(CO)', 'NMHC(GT)', 'C6H6(GT)',\n",
       "       'PT08.S2(NMHC)', 'NOx(GT)', 'PT08.S3(NOx)', 'NO2(GT)', 'PT08.S4(NO2)',\n",
       "       'PT08.S5(O3)', 'T', 'RH', 'AH', 'Unnamed: 15', 'Unnamed: 16'],\n",
       "      dtype='object')"
      ]
     },
     "execution_count": 60,
     "metadata": {},
     "output_type": "execute_result"
    }
   ],
   "source": [
    "df.columns"
   ]
  },
  {
   "cell_type": "markdown",
   "id": "24a82851",
   "metadata": {},
   "source": [
    "# Exploratory Data Analyis"
   ]
  },
  {
   "cell_type": "code",
   "execution_count": 61,
   "id": "c400e56a",
   "metadata": {
    "scrolled": false
   },
   "outputs": [
    {
     "data": {
      "text/plain": [
       "0       True\n",
       "1       True\n",
       "2       True\n",
       "3       True\n",
       "4       True\n",
       "        ... \n",
       "9466    True\n",
       "9467    True\n",
       "9468    True\n",
       "9469    True\n",
       "9470    True\n",
       "Name: Unnamed: 15, Length: 9471, dtype: bool"
      ]
     },
     "execution_count": 61,
     "metadata": {},
     "output_type": "execute_result"
    }
   ],
   "source": [
    "df['Unnamed: 15'].isnull()"
   ]
  },
  {
   "cell_type": "code",
   "execution_count": 62,
   "id": "67a16fc5",
   "metadata": {},
   "outputs": [
    {
     "data": {
      "text/plain": [
       "0       True\n",
       "1       True\n",
       "2       True\n",
       "3       True\n",
       "4       True\n",
       "        ... \n",
       "9466    True\n",
       "9467    True\n",
       "9468    True\n",
       "9469    True\n",
       "9470    True\n",
       "Name: Unnamed: 16, Length: 9471, dtype: bool"
      ]
     },
     "execution_count": 62,
     "metadata": {},
     "output_type": "execute_result"
    }
   ],
   "source": [
    "df['Unnamed: 16'].isnull()"
   ]
  },
  {
   "cell_type": "code",
   "execution_count": 63,
   "id": "c061d7bf",
   "metadata": {},
   "outputs": [],
   "source": [
    "df.drop(['Unnamed: 15', 'Unnamed: 16', 'Date', 'Time'], axis=1, inplace = True)"
   ]
  },
  {
   "cell_type": "markdown",
   "id": "de6634c1",
   "metadata": {},
   "source": [
    "# Check Null value"
   ]
  },
  {
   "cell_type": "code",
   "execution_count": 64,
   "id": "2598bb97",
   "metadata": {
    "scrolled": true
   },
   "outputs": [
    {
     "data": {
      "text/plain": [
       "CO(GT)           114\n",
       "PT08.S1(CO)      114\n",
       "NMHC(GT)         114\n",
       "C6H6(GT)         114\n",
       "PT08.S2(NMHC)    114\n",
       "NOx(GT)          114\n",
       "PT08.S3(NOx)     114\n",
       "NO2(GT)          114\n",
       "PT08.S4(NO2)     114\n",
       "PT08.S5(O3)      114\n",
       "T                114\n",
       "RH               114\n",
       "AH               114\n",
       "dtype: int64"
      ]
     },
     "execution_count": 64,
     "metadata": {},
     "output_type": "execute_result"
    }
   ],
   "source": [
    "nullvalues = df.isnull().sum().sort_values(ascending = False)\n",
    "nullvalues = df.isnull().sum()\n",
    "\n",
    "nullvalues"
   ]
  },
  {
   "cell_type": "markdown",
   "id": "ac918f61",
   "metadata": {},
   "source": [
    "# Check Null Value and Percentage of missing values"
   ]
  },
  {
   "cell_type": "code",
   "execution_count": 65,
   "id": "d393fc9a",
   "metadata": {
    "scrolled": false
   },
   "outputs": [
    {
     "data": {
      "text/plain": [
       "CO(GT)           1.203674\n",
       "PT08.S1(CO)      1.203674\n",
       "NMHC(GT)         1.203674\n",
       "C6H6(GT)         1.203674\n",
       "PT08.S2(NMHC)    1.203674\n",
       "NOx(GT)          1.203674\n",
       "PT08.S3(NOx)     1.203674\n",
       "NO2(GT)          1.203674\n",
       "PT08.S4(NO2)     1.203674\n",
       "PT08.S5(O3)      1.203674\n",
       "T                1.203674\n",
       "RH               1.203674\n",
       "AH               1.203674\n",
       "dtype: float64"
      ]
     },
     "execution_count": 65,
     "metadata": {},
     "output_type": "execute_result"
    }
   ],
   "source": [
    "null_value_percentage = (df.isnull().sum()/df.isnull().count()*100).sort_values(ascending = False)\n",
    "null_value_percentage"
   ]
  },
  {
   "cell_type": "markdown",
   "id": "ccc354d6",
   "metadata": {},
   "source": [
    "# Concat Total Missing\n",
    "# And match with Percentage"
   ]
  },
  {
   "cell_type": "code",
   "execution_count": 66,
   "id": "9c6e1750",
   "metadata": {
    "scrolled": false
   },
   "outputs": [
    {
     "data": {
      "text/html": [
       "<div>\n",
       "<style scoped>\n",
       "    .dataframe tbody tr th:only-of-type {\n",
       "        vertical-align: middle;\n",
       "    }\n",
       "\n",
       "    .dataframe tbody tr th {\n",
       "        vertical-align: top;\n",
       "    }\n",
       "\n",
       "    .dataframe thead th {\n",
       "        text-align: right;\n",
       "    }\n",
       "</style>\n",
       "<table border=\"1\" class=\"dataframe\">\n",
       "  <thead>\n",
       "    <tr style=\"text-align: right;\">\n",
       "      <th></th>\n",
       "      <th>Total</th>\n",
       "      <th>Percentage</th>\n",
       "    </tr>\n",
       "  </thead>\n",
       "  <tbody>\n",
       "    <tr>\n",
       "      <th>CO(GT)</th>\n",
       "      <td>114</td>\n",
       "      <td>1.203674</td>\n",
       "    </tr>\n",
       "    <tr>\n",
       "      <th>PT08.S1(CO)</th>\n",
       "      <td>114</td>\n",
       "      <td>1.203674</td>\n",
       "    </tr>\n",
       "    <tr>\n",
       "      <th>NMHC(GT)</th>\n",
       "      <td>114</td>\n",
       "      <td>1.203674</td>\n",
       "    </tr>\n",
       "    <tr>\n",
       "      <th>C6H6(GT)</th>\n",
       "      <td>114</td>\n",
       "      <td>1.203674</td>\n",
       "    </tr>\n",
       "    <tr>\n",
       "      <th>PT08.S2(NMHC)</th>\n",
       "      <td>114</td>\n",
       "      <td>1.203674</td>\n",
       "    </tr>\n",
       "    <tr>\n",
       "      <th>NOx(GT)</th>\n",
       "      <td>114</td>\n",
       "      <td>1.203674</td>\n",
       "    </tr>\n",
       "    <tr>\n",
       "      <th>PT08.S3(NOx)</th>\n",
       "      <td>114</td>\n",
       "      <td>1.203674</td>\n",
       "    </tr>\n",
       "    <tr>\n",
       "      <th>NO2(GT)</th>\n",
       "      <td>114</td>\n",
       "      <td>1.203674</td>\n",
       "    </tr>\n",
       "    <tr>\n",
       "      <th>PT08.S4(NO2)</th>\n",
       "      <td>114</td>\n",
       "      <td>1.203674</td>\n",
       "    </tr>\n",
       "    <tr>\n",
       "      <th>PT08.S5(O3)</th>\n",
       "      <td>114</td>\n",
       "      <td>1.203674</td>\n",
       "    </tr>\n",
       "    <tr>\n",
       "      <th>T</th>\n",
       "      <td>114</td>\n",
       "      <td>1.203674</td>\n",
       "    </tr>\n",
       "    <tr>\n",
       "      <th>RH</th>\n",
       "      <td>114</td>\n",
       "      <td>1.203674</td>\n",
       "    </tr>\n",
       "    <tr>\n",
       "      <th>AH</th>\n",
       "      <td>114</td>\n",
       "      <td>1.203674</td>\n",
       "    </tr>\n",
       "  </tbody>\n",
       "</table>\n",
       "</div>"
      ],
      "text/plain": [
       "               Total  Percentage\n",
       "CO(GT)           114    1.203674\n",
       "PT08.S1(CO)      114    1.203674\n",
       "NMHC(GT)         114    1.203674\n",
       "C6H6(GT)         114    1.203674\n",
       "PT08.S2(NMHC)    114    1.203674\n",
       "NOx(GT)          114    1.203674\n",
       "PT08.S3(NOx)     114    1.203674\n",
       "NO2(GT)          114    1.203674\n",
       "PT08.S4(NO2)     114    1.203674\n",
       "PT08.S5(O3)      114    1.203674\n",
       "T                114    1.203674\n",
       "RH               114    1.203674\n",
       "AH               114    1.203674"
      ]
     },
     "execution_count": 66,
     "metadata": {},
     "output_type": "execute_result"
    }
   ],
   "source": [
    "missing_data_with_percenage = pd.concat([nullvalues,null_value_percentage], axis =1, keys =['Total', 'Percentage'])\n",
    "missing_data_with_percenage"
   ]
  },
  {
   "cell_type": "code",
   "execution_count": 67,
   "id": "7b426d90",
   "metadata": {
    "scrolled": false
   },
   "outputs": [],
   "source": [
    "df.fillna(0, inplace =True)"
   ]
  },
  {
   "cell_type": "markdown",
   "id": "3efc3885",
   "metadata": {},
   "source": [
    "# Formatting some object columns from strings to floats"
   ]
  },
  {
   "cell_type": "code",
   "execution_count": 68,
   "id": "3ffb68da",
   "metadata": {},
   "outputs": [],
   "source": [
    "df.replace(to_replace=',',value='.',regex=True,inplace=True) \n",
    "\n",
    "for i in 'C6H6(GT) T RH AH'.split():\n",
    "    df[i] = pd.to_numeric(df[i],errors='coerce') "
   ]
  },
  {
   "cell_type": "code",
   "execution_count": 69,
   "id": "f07d4b99",
   "metadata": {},
   "outputs": [
    {
     "data": {
      "text/html": [
       "<div>\n",
       "<style scoped>\n",
       "    .dataframe tbody tr th:only-of-type {\n",
       "        vertical-align: middle;\n",
       "    }\n",
       "\n",
       "    .dataframe tbody tr th {\n",
       "        vertical-align: top;\n",
       "    }\n",
       "\n",
       "    .dataframe thead th {\n",
       "        text-align: right;\n",
       "    }\n",
       "</style>\n",
       "<table border=\"1\" class=\"dataframe\">\n",
       "  <thead>\n",
       "    <tr style=\"text-align: right;\">\n",
       "      <th></th>\n",
       "      <th>CO(GT)</th>\n",
       "      <th>PT08.S1(CO)</th>\n",
       "      <th>NMHC(GT)</th>\n",
       "      <th>C6H6(GT)</th>\n",
       "      <th>PT08.S2(NMHC)</th>\n",
       "      <th>NOx(GT)</th>\n",
       "      <th>PT08.S3(NOx)</th>\n",
       "      <th>NO2(GT)</th>\n",
       "      <th>PT08.S4(NO2)</th>\n",
       "      <th>PT08.S5(O3)</th>\n",
       "      <th>T</th>\n",
       "      <th>RH</th>\n",
       "      <th>AH</th>\n",
       "    </tr>\n",
       "  </thead>\n",
       "  <tbody>\n",
       "    <tr>\n",
       "      <th>0</th>\n",
       "      <td>2.6</td>\n",
       "      <td>1360.0</td>\n",
       "      <td>150.0</td>\n",
       "      <td>11.9</td>\n",
       "      <td>1046.0</td>\n",
       "      <td>166.0</td>\n",
       "      <td>1056.0</td>\n",
       "      <td>113.0</td>\n",
       "      <td>1692.0</td>\n",
       "      <td>1268.0</td>\n",
       "      <td>13.6</td>\n",
       "      <td>48.9</td>\n",
       "      <td>0.7578</td>\n",
       "    </tr>\n",
       "    <tr>\n",
       "      <th>1</th>\n",
       "      <td>2</td>\n",
       "      <td>1292.0</td>\n",
       "      <td>112.0</td>\n",
       "      <td>9.4</td>\n",
       "      <td>955.0</td>\n",
       "      <td>103.0</td>\n",
       "      <td>1174.0</td>\n",
       "      <td>92.0</td>\n",
       "      <td>1559.0</td>\n",
       "      <td>972.0</td>\n",
       "      <td>13.3</td>\n",
       "      <td>47.7</td>\n",
       "      <td>0.7255</td>\n",
       "    </tr>\n",
       "    <tr>\n",
       "      <th>2</th>\n",
       "      <td>2.2</td>\n",
       "      <td>1402.0</td>\n",
       "      <td>88.0</td>\n",
       "      <td>9.0</td>\n",
       "      <td>939.0</td>\n",
       "      <td>131.0</td>\n",
       "      <td>1140.0</td>\n",
       "      <td>114.0</td>\n",
       "      <td>1555.0</td>\n",
       "      <td>1074.0</td>\n",
       "      <td>11.9</td>\n",
       "      <td>54.0</td>\n",
       "      <td>0.7502</td>\n",
       "    </tr>\n",
       "    <tr>\n",
       "      <th>3</th>\n",
       "      <td>2.2</td>\n",
       "      <td>1376.0</td>\n",
       "      <td>80.0</td>\n",
       "      <td>9.2</td>\n",
       "      <td>948.0</td>\n",
       "      <td>172.0</td>\n",
       "      <td>1092.0</td>\n",
       "      <td>122.0</td>\n",
       "      <td>1584.0</td>\n",
       "      <td>1203.0</td>\n",
       "      <td>11.0</td>\n",
       "      <td>60.0</td>\n",
       "      <td>0.7867</td>\n",
       "    </tr>\n",
       "    <tr>\n",
       "      <th>4</th>\n",
       "      <td>1.6</td>\n",
       "      <td>1272.0</td>\n",
       "      <td>51.0</td>\n",
       "      <td>6.5</td>\n",
       "      <td>836.0</td>\n",
       "      <td>131.0</td>\n",
       "      <td>1205.0</td>\n",
       "      <td>116.0</td>\n",
       "      <td>1490.0</td>\n",
       "      <td>1110.0</td>\n",
       "      <td>11.2</td>\n",
       "      <td>59.6</td>\n",
       "      <td>0.7888</td>\n",
       "    </tr>\n",
       "    <tr>\n",
       "      <th>...</th>\n",
       "      <td>...</td>\n",
       "      <td>...</td>\n",
       "      <td>...</td>\n",
       "      <td>...</td>\n",
       "      <td>...</td>\n",
       "      <td>...</td>\n",
       "      <td>...</td>\n",
       "      <td>...</td>\n",
       "      <td>...</td>\n",
       "      <td>...</td>\n",
       "      <td>...</td>\n",
       "      <td>...</td>\n",
       "      <td>...</td>\n",
       "    </tr>\n",
       "    <tr>\n",
       "      <th>9466</th>\n",
       "      <td>0</td>\n",
       "      <td>0.0</td>\n",
       "      <td>0.0</td>\n",
       "      <td>0.0</td>\n",
       "      <td>0.0</td>\n",
       "      <td>0.0</td>\n",
       "      <td>0.0</td>\n",
       "      <td>0.0</td>\n",
       "      <td>0.0</td>\n",
       "      <td>0.0</td>\n",
       "      <td>0.0</td>\n",
       "      <td>0.0</td>\n",
       "      <td>0.0000</td>\n",
       "    </tr>\n",
       "    <tr>\n",
       "      <th>9467</th>\n",
       "      <td>0</td>\n",
       "      <td>0.0</td>\n",
       "      <td>0.0</td>\n",
       "      <td>0.0</td>\n",
       "      <td>0.0</td>\n",
       "      <td>0.0</td>\n",
       "      <td>0.0</td>\n",
       "      <td>0.0</td>\n",
       "      <td>0.0</td>\n",
       "      <td>0.0</td>\n",
       "      <td>0.0</td>\n",
       "      <td>0.0</td>\n",
       "      <td>0.0000</td>\n",
       "    </tr>\n",
       "    <tr>\n",
       "      <th>9468</th>\n",
       "      <td>0</td>\n",
       "      <td>0.0</td>\n",
       "      <td>0.0</td>\n",
       "      <td>0.0</td>\n",
       "      <td>0.0</td>\n",
       "      <td>0.0</td>\n",
       "      <td>0.0</td>\n",
       "      <td>0.0</td>\n",
       "      <td>0.0</td>\n",
       "      <td>0.0</td>\n",
       "      <td>0.0</td>\n",
       "      <td>0.0</td>\n",
       "      <td>0.0000</td>\n",
       "    </tr>\n",
       "    <tr>\n",
       "      <th>9469</th>\n",
       "      <td>0</td>\n",
       "      <td>0.0</td>\n",
       "      <td>0.0</td>\n",
       "      <td>0.0</td>\n",
       "      <td>0.0</td>\n",
       "      <td>0.0</td>\n",
       "      <td>0.0</td>\n",
       "      <td>0.0</td>\n",
       "      <td>0.0</td>\n",
       "      <td>0.0</td>\n",
       "      <td>0.0</td>\n",
       "      <td>0.0</td>\n",
       "      <td>0.0000</td>\n",
       "    </tr>\n",
       "    <tr>\n",
       "      <th>9470</th>\n",
       "      <td>0</td>\n",
       "      <td>0.0</td>\n",
       "      <td>0.0</td>\n",
       "      <td>0.0</td>\n",
       "      <td>0.0</td>\n",
       "      <td>0.0</td>\n",
       "      <td>0.0</td>\n",
       "      <td>0.0</td>\n",
       "      <td>0.0</td>\n",
       "      <td>0.0</td>\n",
       "      <td>0.0</td>\n",
       "      <td>0.0</td>\n",
       "      <td>0.0000</td>\n",
       "    </tr>\n",
       "  </tbody>\n",
       "</table>\n",
       "<p>9471 rows × 13 columns</p>\n",
       "</div>"
      ],
      "text/plain": [
       "     CO(GT)  PT08.S1(CO)  NMHC(GT)  C6H6(GT)  PT08.S2(NMHC)  NOx(GT)  \\\n",
       "0       2.6       1360.0     150.0      11.9         1046.0    166.0   \n",
       "1         2       1292.0     112.0       9.4          955.0    103.0   \n",
       "2       2.2       1402.0      88.0       9.0          939.0    131.0   \n",
       "3       2.2       1376.0      80.0       9.2          948.0    172.0   \n",
       "4       1.6       1272.0      51.0       6.5          836.0    131.0   \n",
       "...     ...          ...       ...       ...            ...      ...   \n",
       "9466      0          0.0       0.0       0.0            0.0      0.0   \n",
       "9467      0          0.0       0.0       0.0            0.0      0.0   \n",
       "9468      0          0.0       0.0       0.0            0.0      0.0   \n",
       "9469      0          0.0       0.0       0.0            0.0      0.0   \n",
       "9470      0          0.0       0.0       0.0            0.0      0.0   \n",
       "\n",
       "      PT08.S3(NOx)  NO2(GT)  PT08.S4(NO2)  PT08.S5(O3)     T    RH      AH  \n",
       "0           1056.0    113.0        1692.0       1268.0  13.6  48.9  0.7578  \n",
       "1           1174.0     92.0        1559.0        972.0  13.3  47.7  0.7255  \n",
       "2           1140.0    114.0        1555.0       1074.0  11.9  54.0  0.7502  \n",
       "3           1092.0    122.0        1584.0       1203.0  11.0  60.0  0.7867  \n",
       "4           1205.0    116.0        1490.0       1110.0  11.2  59.6  0.7888  \n",
       "...            ...      ...           ...          ...   ...   ...     ...  \n",
       "9466           0.0      0.0           0.0          0.0   0.0   0.0  0.0000  \n",
       "9467           0.0      0.0           0.0          0.0   0.0   0.0  0.0000  \n",
       "9468           0.0      0.0           0.0          0.0   0.0   0.0  0.0000  \n",
       "9469           0.0      0.0           0.0          0.0   0.0   0.0  0.0000  \n",
       "9470           0.0      0.0           0.0          0.0   0.0   0.0  0.0000  \n",
       "\n",
       "[9471 rows x 13 columns]"
      ]
     },
     "execution_count": 69,
     "metadata": {},
     "output_type": "execute_result"
    }
   ],
   "source": [
    "df"
   ]
  },
  {
   "cell_type": "code",
   "execution_count": 70,
   "id": "2ab7f7aa",
   "metadata": {
    "scrolled": true
   },
   "outputs": [
    {
     "data": {
      "text/html": [
       "<div>\n",
       "<style scoped>\n",
       "    .dataframe tbody tr th:only-of-type {\n",
       "        vertical-align: middle;\n",
       "    }\n",
       "\n",
       "    .dataframe tbody tr th {\n",
       "        vertical-align: top;\n",
       "    }\n",
       "\n",
       "    .dataframe thead th {\n",
       "        text-align: right;\n",
       "    }\n",
       "</style>\n",
       "<table border=\"1\" class=\"dataframe\">\n",
       "  <thead>\n",
       "    <tr style=\"text-align: right;\">\n",
       "      <th></th>\n",
       "      <th>PT08.S1(CO)</th>\n",
       "      <th>NMHC(GT)</th>\n",
       "      <th>C6H6(GT)</th>\n",
       "      <th>PT08.S2(NMHC)</th>\n",
       "      <th>NOx(GT)</th>\n",
       "      <th>PT08.S3(NOx)</th>\n",
       "      <th>NO2(GT)</th>\n",
       "      <th>PT08.S4(NO2)</th>\n",
       "      <th>PT08.S5(O3)</th>\n",
       "      <th>T</th>\n",
       "      <th>RH</th>\n",
       "      <th>AH</th>\n",
       "    </tr>\n",
       "  </thead>\n",
       "  <tbody>\n",
       "    <tr>\n",
       "      <th>count</th>\n",
       "      <td>9471.000000</td>\n",
       "      <td>9471.000000</td>\n",
       "      <td>9471.000000</td>\n",
       "      <td>9471.000000</td>\n",
       "      <td>9471.000000</td>\n",
       "      <td>9471.000000</td>\n",
       "      <td>9471.000000</td>\n",
       "      <td>9471.000000</td>\n",
       "      <td>9471.000000</td>\n",
       "      <td>9471.000000</td>\n",
       "      <td>9471.000000</td>\n",
       "      <td>9471.000000</td>\n",
       "    </tr>\n",
       "    <tr>\n",
       "      <th>mean</th>\n",
       "      <td>1036.363636</td>\n",
       "      <td>-157.175166</td>\n",
       "      <td>1.843227</td>\n",
       "      <td>883.827262</td>\n",
       "      <td>166.587372</td>\n",
       "      <td>785.421075</td>\n",
       "      <td>57.448949</td>\n",
       "      <td>1374.730757</td>\n",
       "      <td>963.335339</td>\n",
       "      <td>9.660606</td>\n",
       "      <td>39.010105</td>\n",
       "      <td>-6.755301</td>\n",
       "    </tr>\n",
       "    <tr>\n",
       "      <th>std</th>\n",
       "      <td>347.227526</td>\n",
       "      <td>140.024164</td>\n",
       "      <td>41.130888</td>\n",
       "      <td>353.976503</td>\n",
       "      <td>256.539570</td>\n",
       "      <td>331.584542</td>\n",
       "      <td>126.333345</td>\n",
       "      <td>488.554210</td>\n",
       "      <td>466.461811</td>\n",
       "      <td>42.956031</td>\n",
       "      <td>51.088738</td>\n",
       "      <td>38.748535</td>\n",
       "    </tr>\n",
       "    <tr>\n",
       "      <th>min</th>\n",
       "      <td>-200.000000</td>\n",
       "      <td>-200.000000</td>\n",
       "      <td>-200.000000</td>\n",
       "      <td>-200.000000</td>\n",
       "      <td>-200.000000</td>\n",
       "      <td>-200.000000</td>\n",
       "      <td>-200.000000</td>\n",
       "      <td>-200.000000</td>\n",
       "      <td>-200.000000</td>\n",
       "      <td>-200.000000</td>\n",
       "      <td>-200.000000</td>\n",
       "      <td>-200.000000</td>\n",
       "    </tr>\n",
       "    <tr>\n",
       "      <th>25%</th>\n",
       "      <td>915.000000</td>\n",
       "      <td>-200.000000</td>\n",
       "      <td>3.900000</td>\n",
       "      <td>704.000000</td>\n",
       "      <td>47.000000</td>\n",
       "      <td>631.000000</td>\n",
       "      <td>51.000000</td>\n",
       "      <td>1171.000000</td>\n",
       "      <td>689.000000</td>\n",
       "      <td>10.700000</td>\n",
       "      <td>33.500000</td>\n",
       "      <td>0.676800</td>\n",
       "    </tr>\n",
       "    <tr>\n",
       "      <th>50%</th>\n",
       "      <td>1050.000000</td>\n",
       "      <td>-200.000000</td>\n",
       "      <td>7.800000</td>\n",
       "      <td>890.000000</td>\n",
       "      <td>139.000000</td>\n",
       "      <td>791.000000</td>\n",
       "      <td>95.000000</td>\n",
       "      <td>1440.000000</td>\n",
       "      <td>936.000000</td>\n",
       "      <td>17.000000</td>\n",
       "      <td>48.100000</td>\n",
       "      <td>0.971100</td>\n",
       "    </tr>\n",
       "    <tr>\n",
       "      <th>75%</th>\n",
       "      <td>1218.000000</td>\n",
       "      <td>-200.000000</td>\n",
       "      <td>13.500000</td>\n",
       "      <td>1102.000000</td>\n",
       "      <td>281.500000</td>\n",
       "      <td>957.000000</td>\n",
       "      <td>132.000000</td>\n",
       "      <td>1658.000000</td>\n",
       "      <td>1250.000000</td>\n",
       "      <td>24.000000</td>\n",
       "      <td>61.700000</td>\n",
       "      <td>1.291500</td>\n",
       "    </tr>\n",
       "    <tr>\n",
       "      <th>max</th>\n",
       "      <td>2040.000000</td>\n",
       "      <td>1189.000000</td>\n",
       "      <td>63.700000</td>\n",
       "      <td>2214.000000</td>\n",
       "      <td>1479.000000</td>\n",
       "      <td>2683.000000</td>\n",
       "      <td>340.000000</td>\n",
       "      <td>2775.000000</td>\n",
       "      <td>2523.000000</td>\n",
       "      <td>44.600000</td>\n",
       "      <td>88.700000</td>\n",
       "      <td>2.231000</td>\n",
       "    </tr>\n",
       "  </tbody>\n",
       "</table>\n",
       "</div>"
      ],
      "text/plain": [
       "       PT08.S1(CO)     NMHC(GT)     C6H6(GT)  PT08.S2(NMHC)      NOx(GT)  \\\n",
       "count  9471.000000  9471.000000  9471.000000    9471.000000  9471.000000   \n",
       "mean   1036.363636  -157.175166     1.843227     883.827262   166.587372   \n",
       "std     347.227526   140.024164    41.130888     353.976503   256.539570   \n",
       "min    -200.000000  -200.000000  -200.000000    -200.000000  -200.000000   \n",
       "25%     915.000000  -200.000000     3.900000     704.000000    47.000000   \n",
       "50%    1050.000000  -200.000000     7.800000     890.000000   139.000000   \n",
       "75%    1218.000000  -200.000000    13.500000    1102.000000   281.500000   \n",
       "max    2040.000000  1189.000000    63.700000    2214.000000  1479.000000   \n",
       "\n",
       "       PT08.S3(NOx)      NO2(GT)  PT08.S4(NO2)  PT08.S5(O3)            T  \\\n",
       "count   9471.000000  9471.000000   9471.000000  9471.000000  9471.000000   \n",
       "mean     785.421075    57.448949   1374.730757   963.335339     9.660606   \n",
       "std      331.584542   126.333345    488.554210   466.461811    42.956031   \n",
       "min     -200.000000  -200.000000   -200.000000  -200.000000  -200.000000   \n",
       "25%      631.000000    51.000000   1171.000000   689.000000    10.700000   \n",
       "50%      791.000000    95.000000   1440.000000   936.000000    17.000000   \n",
       "75%      957.000000   132.000000   1658.000000  1250.000000    24.000000   \n",
       "max     2683.000000   340.000000   2775.000000  2523.000000    44.600000   \n",
       "\n",
       "                RH           AH  \n",
       "count  9471.000000  9471.000000  \n",
       "mean     39.010105    -6.755301  \n",
       "std      51.088738    38.748535  \n",
       "min    -200.000000  -200.000000  \n",
       "25%      33.500000     0.676800  \n",
       "50%      48.100000     0.971100  \n",
       "75%      61.700000     1.291500  \n",
       "max      88.700000     2.231000  "
      ]
     },
     "execution_count": 70,
     "metadata": {},
     "output_type": "execute_result"
    }
   ],
   "source": [
    "df.describe()"
   ]
  },
  {
   "cell_type": "code",
   "execution_count": 71,
   "id": "dfc245cd",
   "metadata": {
    "scrolled": false
   },
   "outputs": [
    {
     "data": {
      "image/png": "[encoded data removed]",
      "text/plain": [
       "<Figure size 1224x648 with 2 Axes>"
      ]
     },
     "metadata": {},
     "output_type": "display_data"
    }
   ],
   "source": [
    "plt.figure(figsize=(17,9))\n",
    "plt.subplot(2,2,1)\n",
    "sns.histplot(df[\"T\"],stat=\"count\",color=\"red\",bins=15,kde={'alpha':0.5})\n",
    "plt.subplot(2,2,2)\n",
    "sns.histplot(df.RH,stat=\"count\",color = \"green\",bins=15,kde={'alpha':0.5})\n",
    "plt.show()"
   ]
  },
  {
   "cell_type": "code",
   "execution_count": 72,
   "id": "6f199363",
   "metadata": {
    "scrolled": true
   },
   "outputs": [
    {
     "data": {
      "text/plain": [
       "<AxesSubplot:xlabel='AH', ylabel='Count'>"
      ]
     },
     "execution_count": 72,
     "metadata": {},
     "output_type": "execute_result"
    },
    {
     "data": {
      "image/png": "[encoded data removed]",
      "text/plain": [
       "<Figure size 1224x648 with 1 Axes>"
      ]
     },
     "metadata": {},
     "output_type": "display_data"
    }
   ],
   "source": [
    "plt.figure(figsize=(17,9))\n",
    "plt.subplot(2,2,1)\n",
    "sns.histplot(df.AH,stat=\"count\",color=\"green\",bins=15,kde={'alpha':0.5})"
   ]
  },
  {
   "cell_type": "code",
   "execution_count": 73,
   "id": "cb720a93",
   "metadata": {
    "scrolled": true
   },
   "outputs": [
    {
     "name": "stdout",
     "output_type": "stream",
     "text": [
      "Average Ratio of (sensor)Tin oxide(nominally CO targeted) :  1036.36\n",
      "Average Ratio of Benzene in microg/m^3 :  1.84\n",
      "Average Ratio of (sensor)Non-Methane Hydrocarbons :  883.83\n",
      "Average Ratio of Nitrogen Oxides in ppb :  166.59\n",
      "Average Ratio of (sensor)Tungsten oxide(nominally NOx targeted) :  785.42\n",
      "Average Ratio of true hourly averaged NO2(Nitrogen dioxide) :  57.45\n",
      "Average Ratio of (sensor)tungsten oxide(nominally NO2 targeted) :  1374.73\n",
      "Average Ratio of (sensor)indium oxide(nominally O3 targeted) :  963.34\n",
      "Average temperature in Celsius:  9.66\n",
      "Average Relative Humidity in % : -6.76\n",
      "Average Absolute Humidity :  39.01\n"
     ]
    }
   ],
   "source": [
    "#Checking the Statistics for all the AQ\n",
    "print(\"Average Ratio of (sensor)Tin oxide(nominally CO targeted) : {0: .2f}\".format(df['PT08.S1(CO)'].mean()))\n",
    "print(\"Average Ratio of Benzene in microg/m^3 : {0: .2f}\".format(df['C6H6(GT)'].mean()))\n",
    "print(\"Average Ratio of (sensor)Non-Methane Hydrocarbons : {0: .2f}\".format(df['PT08.S2(NMHC)'].mean()))\n",
    "print(\"Average Ratio of Nitrogen Oxides in ppb : {0: .2f}\".format(df['NOx(GT)'].mean()))\n",
    "print(\"Average Ratio of (sensor)Tungsten oxide(nominally NOx targeted) : {0: .2f}\".format(df['PT08.S3(NOx)'].mean()))\n",
    "print(\"Average Ratio of true hourly averaged NO2(Nitrogen dioxide) : {0: .2f}\".format(df['NO2(GT)'].mean()))\n",
    "print(\"Average Ratio of (sensor)tungsten oxide(nominally NO2 targeted) : {0: .2f}\".format(df['PT08.S4(NO2)'].mean()))\n",
    "print(\"Average Ratio of (sensor)indium oxide(nominally O3 targeted) : {0: .2f}\".format(df['PT08.S5(O3)'].mean()))\n",
    "print(\"Average temperature in Celsius: {0: .2f}\".format(df['T'].mean()))\n",
    "print(\"Average Relative Humidity in % : {0: .2f}\".format(df['AH'].mean()))\n",
    "print(\"Average Absolute Humidity : {0: .2f}\".format(df['RH'].mean()))"
   ]
  },
  {
   "cell_type": "markdown",
   "id": "13c6d6ee",
   "metadata": {},
   "source": [
    "# plot graph for all columns"
   ]
  },
  {
   "cell_type": "code",
   "execution_count": 74,
   "id": "a98c56ae",
   "metadata": {},
   "outputs": [],
   "source": [
    "sns.set_theme(style=\"whitegrid\")"
   ]
  },
  {
   "cell_type": "code",
   "execution_count": 75,
   "id": "04376067",
   "metadata": {
    "scrolled": false
   },
   "outputs": [
    {
     "data": {
      "image/png": "[encoded data removed]",
      "text/plain": [
       "<Figure size 1224x648 with 1 Axes>"
      ]
     },
     "metadata": {},
     "output_type": "display_data"
    },
    {
     "data": {
      "image/png": "[encoded data removed]",
      "text/plain": [
       "<Figure size 1224x648 with 1 Axes>"
      ]
     },
     "metadata": {},
     "output_type": "display_data"
    },
    {
     "data": {
      "image/png": "[encoded data removed]",
      "text/plain": [
       "<Figure size 1224x648 with 1 Axes>"
      ]
     },
     "metadata": {},
     "output_type": "display_data"
    },
    {
     "data": {
      "image/png": "[encoded data removed]",
      "text/plain": [
       "<Figure size 1224x648 with 1 Axes>"
      ]
     },
     "metadata": {},
     "output_type": "display_data"
    },
    {
     "data": {
      "image/png": "[encoded data removed]",
      "text/plain": [
       "<Figure size 1224x648 with 1 Axes>"
      ]
     },
     "metadata": {},
     "output_type": "display_data"
    },
    {
     "data": {
      "image/png": "[encoded data removed]",
      "text/plain": [
       "<Figure size 1224x648 with 1 Axes>"
      ]
     },
     "metadata": {},
     "output_type": "display_data"
    },
    {
     "data": {
      "image/png": "[encoded data removed]",
      "text/plain": [
       "<Figure size 1224x648 with 1 Axes>"
      ]
     },
     "metadata": {},
     "output_type": "display_data"
    },
    {
     "data": {
      "image/png": "[encoded data removed]",
      "text/plain": [
       "<Figure size 1224x648 with 1 Axes>"
      ]
     },
     "metadata": {},
     "output_type": "display_data"
    },
    {
     "data": {
      "image/png": "[encoded data removed]",
      "text/plain": [
       "<Figure size 1224x648 with 1 Axes>"
      ]
     },
     "metadata": {},
     "output_type": "display_data"
    },
    {
     "data": {
      "image/png": "[encoded data removed]",
      "text/plain": [
       "<Figure size 1224x648 with 1 Axes>"
      ]
     },
     "metadata": {},
     "output_type": "display_data"
    },
    {
     "data": {
      "image/png": "[encoded data removed]",
      "text/plain": [
       "<Figure size 1224x648 with 1 Axes>"
      ]
     },
     "metadata": {},
     "output_type": "display_data"
    },
    {
     "data": {
      "image/png": "[encoded data removed]",
      "text/plain": [
       "<Figure size 1224x648 with 1 Axes>"
      ]
     },
     "metadata": {},
     "output_type": "display_data"
    }
   ],
   "source": [
    "for i in df.columns[1:13]:\n",
    "    plt.figure(figsize=(17,9))\n",
    "    plt.subplot(2,2,1)\n",
    "    sns.histplot(x=df[i],stat=\"count\",color=\"red\",bins=15,kde={'alpha':0.5})"
   ]
  },
  {
   "cell_type": "code",
   "execution_count": 76,
   "id": "1d350d4a",
   "metadata": {
    "scrolled": false
   },
   "outputs": [
    {
     "data": {
      "image/png": "[encoded data removed]",
      "text/plain": [
       "<Figure size 864x648 with 2 Axes>"
      ]
     },
     "metadata": {},
     "output_type": "display_data"
    }
   ],
   "source": [
    "#Plotting correlation matrix\n",
    "plt.figure(figsize=(12,9))\n",
    "sns.heatmap(df.corr(),annot=True,cmap = 'coolwarm')\n",
    "plt.title('Correlation Matrix')\n",
    "plt.show()"
   ]
  },
  {
   "cell_type": "code",
   "execution_count": 77,
   "id": "fb9ceb12",
   "metadata": {
    "scrolled": true
   },
   "outputs": [
    {
     "name": "stdout",
     "output_type": "stream",
     "text": [
      "Index(['CO(GT)', 'CO', 'NMHC(GT)', 'C6H6(GT)', 'PT08.S2(NMHC)', 'NOx(GT)',\n",
      "       'PT08.S3(NOx)', 'NO2(GT)', 'NO2', 'O3', 'T', 'RH', 'AH'],\n",
      "      dtype='object')\n"
     ]
    }
   ],
   "source": [
    "df.rename(columns={'PT08.S1(CO)': 'CO','PT08.S4(NO2)':'NO2', 'PT08.S5(O3)':'O3'},inplace=True)\n",
    "print(df.columns)"
   ]
  },
  {
   "cell_type": "code",
   "execution_count": 78,
   "id": "748f30f1",
   "metadata": {
    "scrolled": true
   },
   "outputs": [
    {
     "data": {
      "text/html": [
       "<div>\n",
       "<style scoped>\n",
       "    .dataframe tbody tr th:only-of-type {\n",
       "        vertical-align: middle;\n",
       "    }\n",
       "\n",
       "    .dataframe tbody tr th {\n",
       "        vertical-align: top;\n",
       "    }\n",
       "\n",
       "    .dataframe thead th {\n",
       "        text-align: right;\n",
       "    }\n",
       "</style>\n",
       "<table border=\"1\" class=\"dataframe\">\n",
       "  <thead>\n",
       "    <tr style=\"text-align: right;\">\n",
       "      <th></th>\n",
       "      <th>CO(GT)</th>\n",
       "      <th>CO</th>\n",
       "      <th>NMHC(GT)</th>\n",
       "      <th>C6H6(GT)</th>\n",
       "      <th>PT08.S2(NMHC)</th>\n",
       "      <th>NOx(GT)</th>\n",
       "      <th>PT08.S3(NOx)</th>\n",
       "      <th>NO2(GT)</th>\n",
       "      <th>NO2</th>\n",
       "      <th>O3</th>\n",
       "      <th>T</th>\n",
       "      <th>RH</th>\n",
       "      <th>AH</th>\n",
       "    </tr>\n",
       "  </thead>\n",
       "  <tbody>\n",
       "    <tr>\n",
       "      <th>0</th>\n",
       "      <td>2.6</td>\n",
       "      <td>1360.0</td>\n",
       "      <td>150.0</td>\n",
       "      <td>11.9</td>\n",
       "      <td>1046.0</td>\n",
       "      <td>166.0</td>\n",
       "      <td>1056.0</td>\n",
       "      <td>113.0</td>\n",
       "      <td>1692.0</td>\n",
       "      <td>1268.0</td>\n",
       "      <td>13.6</td>\n",
       "      <td>48.9</td>\n",
       "      <td>0.7578</td>\n",
       "    </tr>\n",
       "    <tr>\n",
       "      <th>1</th>\n",
       "      <td>2</td>\n",
       "      <td>1292.0</td>\n",
       "      <td>112.0</td>\n",
       "      <td>9.4</td>\n",
       "      <td>955.0</td>\n",
       "      <td>103.0</td>\n",
       "      <td>1174.0</td>\n",
       "      <td>92.0</td>\n",
       "      <td>1559.0</td>\n",
       "      <td>972.0</td>\n",
       "      <td>13.3</td>\n",
       "      <td>47.7</td>\n",
       "      <td>0.7255</td>\n",
       "    </tr>\n",
       "    <tr>\n",
       "      <th>2</th>\n",
       "      <td>2.2</td>\n",
       "      <td>1402.0</td>\n",
       "      <td>88.0</td>\n",
       "      <td>9.0</td>\n",
       "      <td>939.0</td>\n",
       "      <td>131.0</td>\n",
       "      <td>1140.0</td>\n",
       "      <td>114.0</td>\n",
       "      <td>1555.0</td>\n",
       "      <td>1074.0</td>\n",
       "      <td>11.9</td>\n",
       "      <td>54.0</td>\n",
       "      <td>0.7502</td>\n",
       "    </tr>\n",
       "    <tr>\n",
       "      <th>3</th>\n",
       "      <td>2.2</td>\n",
       "      <td>1376.0</td>\n",
       "      <td>80.0</td>\n",
       "      <td>9.2</td>\n",
       "      <td>948.0</td>\n",
       "      <td>172.0</td>\n",
       "      <td>1092.0</td>\n",
       "      <td>122.0</td>\n",
       "      <td>1584.0</td>\n",
       "      <td>1203.0</td>\n",
       "      <td>11.0</td>\n",
       "      <td>60.0</td>\n",
       "      <td>0.7867</td>\n",
       "    </tr>\n",
       "    <tr>\n",
       "      <th>4</th>\n",
       "      <td>1.6</td>\n",
       "      <td>1272.0</td>\n",
       "      <td>51.0</td>\n",
       "      <td>6.5</td>\n",
       "      <td>836.0</td>\n",
       "      <td>131.0</td>\n",
       "      <td>1205.0</td>\n",
       "      <td>116.0</td>\n",
       "      <td>1490.0</td>\n",
       "      <td>1110.0</td>\n",
       "      <td>11.2</td>\n",
       "      <td>59.6</td>\n",
       "      <td>0.7888</td>\n",
       "    </tr>\n",
       "    <tr>\n",
       "      <th>...</th>\n",
       "      <td>...</td>\n",
       "      <td>...</td>\n",
       "      <td>...</td>\n",
       "      <td>...</td>\n",
       "      <td>...</td>\n",
       "      <td>...</td>\n",
       "      <td>...</td>\n",
       "      <td>...</td>\n",
       "      <td>...</td>\n",
       "      <td>...</td>\n",
       "      <td>...</td>\n",
       "      <td>...</td>\n",
       "      <td>...</td>\n",
       "    </tr>\n",
       "    <tr>\n",
       "      <th>9466</th>\n",
       "      <td>0</td>\n",
       "      <td>0.0</td>\n",
       "      <td>0.0</td>\n",
       "      <td>0.0</td>\n",
       "      <td>0.0</td>\n",
       "      <td>0.0</td>\n",
       "      <td>0.0</td>\n",
       "      <td>0.0</td>\n",
       "      <td>0.0</td>\n",
       "      <td>0.0</td>\n",
       "      <td>0.0</td>\n",
       "      <td>0.0</td>\n",
       "      <td>0.0000</td>\n",
       "    </tr>\n",
       "    <tr>\n",
       "      <th>9467</th>\n",
       "      <td>0</td>\n",
       "      <td>0.0</td>\n",
       "      <td>0.0</td>\n",
       "      <td>0.0</td>\n",
       "      <td>0.0</td>\n",
       "      <td>0.0</td>\n",
       "      <td>0.0</td>\n",
       "      <td>0.0</td>\n",
       "      <td>0.0</td>\n",
       "      <td>0.0</td>\n",
       "      <td>0.0</td>\n",
       "      <td>0.0</td>\n",
       "      <td>0.0000</td>\n",
       "    </tr>\n",
       "    <tr>\n",
       "      <th>9468</th>\n",
       "      <td>0</td>\n",
       "      <td>0.0</td>\n",
       "      <td>0.0</td>\n",
       "      <td>0.0</td>\n",
       "      <td>0.0</td>\n",
       "      <td>0.0</td>\n",
       "      <td>0.0</td>\n",
       "      <td>0.0</td>\n",
       "      <td>0.0</td>\n",
       "      <td>0.0</td>\n",
       "      <td>0.0</td>\n",
       "      <td>0.0</td>\n",
       "      <td>0.0000</td>\n",
       "    </tr>\n",
       "    <tr>\n",
       "      <th>9469</th>\n",
       "      <td>0</td>\n",
       "      <td>0.0</td>\n",
       "      <td>0.0</td>\n",
       "      <td>0.0</td>\n",
       "      <td>0.0</td>\n",
       "      <td>0.0</td>\n",
       "      <td>0.0</td>\n",
       "      <td>0.0</td>\n",
       "      <td>0.0</td>\n",
       "      <td>0.0</td>\n",
       "      <td>0.0</td>\n",
       "      <td>0.0</td>\n",
       "      <td>0.0000</td>\n",
       "    </tr>\n",
       "    <tr>\n",
       "      <th>9470</th>\n",
       "      <td>0</td>\n",
       "      <td>0.0</td>\n",
       "      <td>0.0</td>\n",
       "      <td>0.0</td>\n",
       "      <td>0.0</td>\n",
       "      <td>0.0</td>\n",
       "      <td>0.0</td>\n",
       "      <td>0.0</td>\n",
       "      <td>0.0</td>\n",
       "      <td>0.0</td>\n",
       "      <td>0.0</td>\n",
       "      <td>0.0</td>\n",
       "      <td>0.0000</td>\n",
       "    </tr>\n",
       "  </tbody>\n",
       "</table>\n",
       "<p>9471 rows × 13 columns</p>\n",
       "</div>"
      ],
      "text/plain": [
       "     CO(GT)      CO  NMHC(GT)  C6H6(GT)  PT08.S2(NMHC)  NOx(GT)  PT08.S3(NOx)  \\\n",
       "0       2.6  1360.0     150.0      11.9         1046.0    166.0        1056.0   \n",
       "1         2  1292.0     112.0       9.4          955.0    103.0        1174.0   \n",
       "2       2.2  1402.0      88.0       9.0          939.0    131.0        1140.0   \n",
       "3       2.2  1376.0      80.0       9.2          948.0    172.0        1092.0   \n",
       "4       1.6  1272.0      51.0       6.5          836.0    131.0        1205.0   \n",
       "...     ...     ...       ...       ...            ...      ...           ...   \n",
       "9466      0     0.0       0.0       0.0            0.0      0.0           0.0   \n",
       "9467      0     0.0       0.0       0.0            0.0      0.0           0.0   \n",
       "9468      0     0.0       0.0       0.0            0.0      0.0           0.0   \n",
       "9469      0     0.0       0.0       0.0            0.0      0.0           0.0   \n",
       "9470      0     0.0       0.0       0.0            0.0      0.0           0.0   \n",
       "\n",
       "      NO2(GT)     NO2      O3     T    RH      AH  \n",
       "0       113.0  1692.0  1268.0  13.6  48.9  0.7578  \n",
       "1        92.0  1559.0   972.0  13.3  47.7  0.7255  \n",
       "2       114.0  1555.0  1074.0  11.9  54.0  0.7502  \n",
       "3       122.0  1584.0  1203.0  11.0  60.0  0.7867  \n",
       "4       116.0  1490.0  1110.0  11.2  59.6  0.7888  \n",
       "...       ...     ...     ...   ...   ...     ...  \n",
       "9466      0.0     0.0     0.0   0.0   0.0  0.0000  \n",
       "9467      0.0     0.0     0.0   0.0   0.0  0.0000  \n",
       "9468      0.0     0.0     0.0   0.0   0.0  0.0000  \n",
       "9469      0.0     0.0     0.0   0.0   0.0  0.0000  \n",
       "9470      0.0     0.0     0.0   0.0   0.0  0.0000  \n",
       "\n",
       "[9471 rows x 13 columns]"
      ]
     },
     "execution_count": 78,
     "metadata": {},
     "output_type": "execute_result"
    }
   ],
   "source": [
    "df"
   ]
  },
  {
   "cell_type": "markdown",
   "id": "8ecbd90f",
   "metadata": {},
   "source": [
    "# Calulate air quality index for NO2 based on formula"
   ]
  },
  {
   "cell_type": "code",
   "execution_count": 79,
   "id": "ac3e507b",
   "metadata": {
    "scrolled": false
   },
   "outputs": [
    {
     "name": "stdout",
     "output_type": "stream",
     "text": [
      "      NO2         NO2i\n",
      "0  1692.0  1476.666667\n",
      "1  1559.0  1365.833333\n",
      "2  1555.0  1362.500000\n",
      "3  1584.0  1386.666667\n",
      "4  1490.0  1308.333333\n"
     ]
    }
   ],
   "source": [
    "def cal_NO2(NO2):\n",
    "    no2i = 0\n",
    "    if(NO2<=40):\n",
    "        no2i = NO2 * 50/40\n",
    "    elif(NO2 > 40 and NO2 <= 80):\n",
    "        no2i = 50 + (NO2-40)*(50/50)\n",
    "    elif(NO2 > 80 and NO2 <= 180):\n",
    "        no2i = 100 + (NO2 - 80)*(100/100)\n",
    "    elif(NO2 > 180 and NO2 <= 280):\n",
    "        no2i = 200 + (NO2 - 180)*(100/100)\n",
    "    elif(NO2 > 280 and NO2 <=400):\n",
    "        no2i = 300 + (NO2 -280)*(100/120)\n",
    "    else:\n",
    "        no2i = 400 + (NO2 - 400)*(100/120)\n",
    "        return no2i\n",
    "    \n",
    "df['NO2i'] = df['NO2'].apply(cal_NO2)\n",
    "data = df[['NO2', 'NO2i']]\n",
    "print(data.head())"
   ]
  },
  {
   "cell_type": "markdown",
   "id": "08223bd8",
   "metadata": {},
   "source": [
    " # Calulate air quality index for CO based on formula¶"
   ]
  },
  {
   "cell_type": "code",
   "execution_count": 80,
   "id": "1c4221c9",
   "metadata": {
    "scrolled": true
   },
   "outputs": [
    {
     "name": "stdout",
     "output_type": "stream",
     "text": [
      "       CO          COi\n",
      "0  1360.0  8200.000000\n",
      "1  1292.0  7800.000000\n",
      "2  1402.0  8447.058824\n",
      "3  1376.0  8294.117647\n",
      "4  1272.0  7682.352941\n"
     ]
    }
   ],
   "source": [
    "def cal_CO(CO):\n",
    "    coi = 0\n",
    "    if CO <=1:\n",
    "        coi = CO * 50 /1\n",
    "        \n",
    "    elif(CO<=40):\n",
    "        coi = CO * 50/40\n",
    "        \n",
    "    elif(CO > 1 and CO <= 2):\n",
    "        coi = 50 + (CO -1) * 50/1\n",
    "        \n",
    "    elif(CO > 2 and CO <= 10):\n",
    "        coi = 100 + (CO - 2) * 100/8\n",
    "        \n",
    "    elif(CO > 10 and CO <= 17):\n",
    "        coi = 200 + (CO - 10) * 100/7\n",
    "        \n",
    "    elif(CO > 17 and CO <= 34):\n",
    "        coi = 300 + (CO - 17) * 100/17\n",
    "        \n",
    "    else:\n",
    "        coi = 400 + (CO -34) * 100 /17\n",
    "        return coi\n",
    "        \n",
    "df['COi'] = df['CO'].apply(cal_CO)\n",
    "data = df[['CO', 'COi']]\n",
    "print(data.head())"
   ]
  },
  {
   "cell_type": "markdown",
   "id": "5602c1c9",
   "metadata": {},
   "source": [
    "# Calulate air quality index for O3 based on formula¶"
   ]
  },
  {
   "cell_type": "code",
   "execution_count": 81,
   "id": "33982c3c",
   "metadata": {
    "scrolled": true
   },
   "outputs": [
    {
     "name": "stdout",
     "output_type": "stream",
     "text": [
      "       O3          O3i\n",
      "0  1268.0  1123.333333\n",
      "1   972.0   876.666667\n",
      "2  1074.0   961.666667\n",
      "3  1203.0  1069.166667\n",
      "4  1110.0   991.666667\n"
     ]
    }
   ],
   "source": [
    "def Cal_O3(O3):\n",
    "    o3i = 0\n",
    "    if O3 <= 50:\n",
    "        o3i = O3 * 50 / 50\n",
    "        \n",
    "    elif(O3 > 50 and O3 <= 100):\n",
    "        o3i = 50 + (O3 - 50) * 50/50\n",
    "        \n",
    "    elif(O3 > 100 and O3 <= 168):\n",
    "        o3i = 100 + (O3-100) * 100/68\n",
    "        \n",
    "    elif(O3 > 168 and O3 <= 208):\n",
    "        o3i = 200 + (O3 - 168) * 100/40\n",
    "    elif(O3 > 208 and O3 <=748):\n",
    "        \n",
    "        o3i = 300 + (O3 - 208) * 100/539\n",
    "        \n",
    "    else:\n",
    "        o3i = 400 + (O3 - 400) * 100/539\n",
    "        return o3i\n",
    "    \n",
    "df['O3i'] = df['O3'].apply(cal_NO2)\n",
    "data = df[['O3', 'O3i']]\n",
    "print(data.head())"
   ]
  },
  {
   "cell_type": "markdown",
   "id": "fd95fda1",
   "metadata": {},
   "source": [
    "# Calculate the air quality index of every data value\n",
    "# We will find the maximum value of each data value"
   ]
  },
  {
   "cell_type": "code",
   "execution_count": 82,
   "id": "1dd4034e",
   "metadata": {
    "scrolled": true
   },
   "outputs": [
    {
     "data": {
      "text/html": [
       "<div>\n",
       "<style scoped>\n",
       "    .dataframe tbody tr th:only-of-type {\n",
       "        vertical-align: middle;\n",
       "    }\n",
       "\n",
       "    .dataframe tbody tr th {\n",
       "        vertical-align: top;\n",
       "    }\n",
       "\n",
       "    .dataframe thead th {\n",
       "        text-align: right;\n",
       "    }\n",
       "</style>\n",
       "<table border=\"1\" class=\"dataframe\">\n",
       "  <thead>\n",
       "    <tr style=\"text-align: right;\">\n",
       "      <th></th>\n",
       "      <th>NO2i</th>\n",
       "      <th>COi</th>\n",
       "      <th>O3i</th>\n",
       "      <th>AQI</th>\n",
       "    </tr>\n",
       "  </thead>\n",
       "  <tbody>\n",
       "    <tr>\n",
       "      <th>0</th>\n",
       "      <td>1476.666667</td>\n",
       "      <td>8200.000000</td>\n",
       "      <td>1123.333333</td>\n",
       "      <td>8200.000000</td>\n",
       "    </tr>\n",
       "    <tr>\n",
       "      <th>1</th>\n",
       "      <td>1365.833333</td>\n",
       "      <td>7800.000000</td>\n",
       "      <td>876.666667</td>\n",
       "      <td>7800.000000</td>\n",
       "    </tr>\n",
       "    <tr>\n",
       "      <th>2</th>\n",
       "      <td>1362.500000</td>\n",
       "      <td>8447.058824</td>\n",
       "      <td>961.666667</td>\n",
       "      <td>8447.058824</td>\n",
       "    </tr>\n",
       "    <tr>\n",
       "      <th>3</th>\n",
       "      <td>1386.666667</td>\n",
       "      <td>8294.117647</td>\n",
       "      <td>1069.166667</td>\n",
       "      <td>8294.117647</td>\n",
       "    </tr>\n",
       "    <tr>\n",
       "      <th>4</th>\n",
       "      <td>1308.333333</td>\n",
       "      <td>7682.352941</td>\n",
       "      <td>991.666667</td>\n",
       "      <td>7682.352941</td>\n",
       "    </tr>\n",
       "  </tbody>\n",
       "</table>\n",
       "</div>"
      ],
      "text/plain": [
       "          NO2i          COi          O3i          AQI\n",
       "0  1476.666667  8200.000000  1123.333333  8200.000000\n",
       "1  1365.833333  7800.000000   876.666667  7800.000000\n",
       "2  1362.500000  8447.058824   961.666667  8447.058824\n",
       "3  1386.666667  8294.117647  1069.166667  8294.117647\n",
       "4  1308.333333  7682.352941   991.666667  7682.352941"
      ]
     },
     "execution_count": 82,
     "metadata": {},
     "output_type": "execute_result"
    }
   ],
   "source": [
    "def cal_aqi(no2i, coi, o3i):\n",
    "    aqi = 0\n",
    "    \n",
    "    if(coi > coi and no2i > o3i):\n",
    "        aqi = no2i\n",
    "        \n",
    "    if(coi > no2i and coi > o3i):\n",
    "        aqi = coi\n",
    "        \n",
    "    if(o3i > no2i and o3i > coi):\n",
    "        aqi = o3i\n",
    "    return aqi\n",
    "df['AQI'] = df.apply(lambda x:cal_aqi(x['NO2i'], x['COi'], x['O3i']), axis =1)\n",
    "data = df[['NO2i', 'COi', 'O3i', 'AQI']]\n",
    "data.head()"
   ]
  },
  {
   "cell_type": "code",
   "execution_count": 83,
   "id": "ca4ce14e",
   "metadata": {
    "scrolled": true
   },
   "outputs": [
    {
     "data": {
      "text/html": [
       "<div>\n",
       "<style scoped>\n",
       "    .dataframe tbody tr th:only-of-type {\n",
       "        vertical-align: middle;\n",
       "    }\n",
       "\n",
       "    .dataframe tbody tr th {\n",
       "        vertical-align: top;\n",
       "    }\n",
       "\n",
       "    .dataframe thead th {\n",
       "        text-align: right;\n",
       "    }\n",
       "</style>\n",
       "<table border=\"1\" class=\"dataframe\">\n",
       "  <thead>\n",
       "    <tr style=\"text-align: right;\">\n",
       "      <th></th>\n",
       "      <th>NO2i</th>\n",
       "      <th>COi</th>\n",
       "      <th>O3i</th>\n",
       "      <th>AQI</th>\n",
       "    </tr>\n",
       "  </thead>\n",
       "  <tbody>\n",
       "    <tr>\n",
       "      <th>count</th>\n",
       "      <td>8991.000000</td>\n",
       "      <td>8991.000000</td>\n",
       "      <td>8751.000000</td>\n",
       "      <td>9471.000000</td>\n",
       "    </tr>\n",
       "    <tr>\n",
       "      <th>mean</th>\n",
       "      <td>1280.220498</td>\n",
       "      <td>6669.606862</td>\n",
       "      <td>934.508913</td>\n",
       "      <td>6208.380381</td>\n",
       "    </tr>\n",
       "    <tr>\n",
       "      <th>std</th>\n",
       "      <td>288.505661</td>\n",
       "      <td>1276.941396</td>\n",
       "      <td>323.038248</td>\n",
       "      <td>2151.938766</td>\n",
       "    </tr>\n",
       "    <tr>\n",
       "      <th>min</th>\n",
       "      <td>525.833333</td>\n",
       "      <td>4005.882353</td>\n",
       "      <td>400.833333</td>\n",
       "      <td>0.000000</td>\n",
       "    </tr>\n",
       "    <tr>\n",
       "      <th>25%</th>\n",
       "      <td>1089.166667</td>\n",
       "      <td>5711.764706</td>\n",
       "      <td>692.500000</td>\n",
       "      <td>5582.352941</td>\n",
       "    </tr>\n",
       "    <tr>\n",
       "      <th>50%</th>\n",
       "      <td>1285.833333</td>\n",
       "      <td>6452.941176</td>\n",
       "      <td>879.166667</td>\n",
       "      <td>6376.470588</td>\n",
       "    </tr>\n",
       "    <tr>\n",
       "      <th>75%</th>\n",
       "      <td>1461.666667</td>\n",
       "      <td>7441.176471</td>\n",
       "      <td>1137.500000</td>\n",
       "      <td>7364.705882</td>\n",
       "    </tr>\n",
       "    <tr>\n",
       "      <th>max</th>\n",
       "      <td>2379.166667</td>\n",
       "      <td>12200.000000</td>\n",
       "      <td>2169.166667</td>\n",
       "      <td>12200.000000</td>\n",
       "    </tr>\n",
       "  </tbody>\n",
       "</table>\n",
       "</div>"
      ],
      "text/plain": [
       "              NO2i           COi          O3i           AQI\n",
       "count  8991.000000   8991.000000  8751.000000   9471.000000\n",
       "mean   1280.220498   6669.606862   934.508913   6208.380381\n",
       "std     288.505661   1276.941396   323.038248   2151.938766\n",
       "min     525.833333   4005.882353   400.833333      0.000000\n",
       "25%    1089.166667   5711.764706   692.500000   5582.352941\n",
       "50%    1285.833333   6452.941176   879.166667   6376.470588\n",
       "75%    1461.666667   7441.176471  1137.500000   7364.705882\n",
       "max    2379.166667  12200.000000  2169.166667  12200.000000"
      ]
     },
     "execution_count": 83,
     "metadata": {},
     "output_type": "execute_result"
    }
   ],
   "source": [
    "data.describe()"
   ]
  },
  {
   "cell_type": "markdown",
   "id": "fcac89e7",
   "metadata": {},
   "source": [
    "# 1 = \"Good\", 2 = \"Moderate\", 3 = \"Poor\", 4 =\"Unhealthy\", 5 =\"Very Unhealthy\" 6 = \"Hazadous\"\n"
   ]
  },
  {
   "cell_type": "code",
   "execution_count": 84,
   "id": "55e0a021",
   "metadata": {},
   "outputs": [
    {
     "data": {
      "text/html": [
       "<div>\n",
       "<style scoped>\n",
       "    .dataframe tbody tr th:only-of-type {\n",
       "        vertical-align: middle;\n",
       "    }\n",
       "\n",
       "    .dataframe tbody tr th {\n",
       "        vertical-align: top;\n",
       "    }\n",
       "\n",
       "    .dataframe thead th {\n",
       "        text-align: right;\n",
       "    }\n",
       "</style>\n",
       "<table border=\"1\" class=\"dataframe\">\n",
       "  <thead>\n",
       "    <tr style=\"text-align: right;\">\n",
       "      <th></th>\n",
       "      <th>CO(GT)</th>\n",
       "      <th>CO</th>\n",
       "      <th>NMHC(GT)</th>\n",
       "      <th>C6H6(GT)</th>\n",
       "      <th>PT08.S2(NMHC)</th>\n",
       "      <th>NOx(GT)</th>\n",
       "      <th>PT08.S3(NOx)</th>\n",
       "      <th>NO2(GT)</th>\n",
       "      <th>NO2</th>\n",
       "      <th>O3</th>\n",
       "      <th>T</th>\n",
       "      <th>RH</th>\n",
       "      <th>AH</th>\n",
       "      <th>NO2i</th>\n",
       "      <th>COi</th>\n",
       "      <th>O3i</th>\n",
       "      <th>AQI</th>\n",
       "      <th>AQI_Range</th>\n",
       "    </tr>\n",
       "  </thead>\n",
       "  <tbody>\n",
       "    <tr>\n",
       "      <th>0</th>\n",
       "      <td>2.6</td>\n",
       "      <td>1360.0</td>\n",
       "      <td>150.0</td>\n",
       "      <td>11.9</td>\n",
       "      <td>1046.0</td>\n",
       "      <td>166.0</td>\n",
       "      <td>1056.0</td>\n",
       "      <td>113.0</td>\n",
       "      <td>1692.0</td>\n",
       "      <td>1268.0</td>\n",
       "      <td>13.6</td>\n",
       "      <td>48.9</td>\n",
       "      <td>0.7578</td>\n",
       "      <td>1476.666667</td>\n",
       "      <td>8200.000000</td>\n",
       "      <td>1123.333333</td>\n",
       "      <td>8200.000000</td>\n",
       "      <td>6</td>\n",
       "    </tr>\n",
       "    <tr>\n",
       "      <th>1</th>\n",
       "      <td>2</td>\n",
       "      <td>1292.0</td>\n",
       "      <td>112.0</td>\n",
       "      <td>9.4</td>\n",
       "      <td>955.0</td>\n",
       "      <td>103.0</td>\n",
       "      <td>1174.0</td>\n",
       "      <td>92.0</td>\n",
       "      <td>1559.0</td>\n",
       "      <td>972.0</td>\n",
       "      <td>13.3</td>\n",
       "      <td>47.7</td>\n",
       "      <td>0.7255</td>\n",
       "      <td>1365.833333</td>\n",
       "      <td>7800.000000</td>\n",
       "      <td>876.666667</td>\n",
       "      <td>7800.000000</td>\n",
       "      <td>6</td>\n",
       "    </tr>\n",
       "    <tr>\n",
       "      <th>2</th>\n",
       "      <td>2.2</td>\n",
       "      <td>1402.0</td>\n",
       "      <td>88.0</td>\n",
       "      <td>9.0</td>\n",
       "      <td>939.0</td>\n",
       "      <td>131.0</td>\n",
       "      <td>1140.0</td>\n",
       "      <td>114.0</td>\n",
       "      <td>1555.0</td>\n",
       "      <td>1074.0</td>\n",
       "      <td>11.9</td>\n",
       "      <td>54.0</td>\n",
       "      <td>0.7502</td>\n",
       "      <td>1362.500000</td>\n",
       "      <td>8447.058824</td>\n",
       "      <td>961.666667</td>\n",
       "      <td>8447.058824</td>\n",
       "      <td>6</td>\n",
       "    </tr>\n",
       "    <tr>\n",
       "      <th>3</th>\n",
       "      <td>2.2</td>\n",
       "      <td>1376.0</td>\n",
       "      <td>80.0</td>\n",
       "      <td>9.2</td>\n",
       "      <td>948.0</td>\n",
       "      <td>172.0</td>\n",
       "      <td>1092.0</td>\n",
       "      <td>122.0</td>\n",
       "      <td>1584.0</td>\n",
       "      <td>1203.0</td>\n",
       "      <td>11.0</td>\n",
       "      <td>60.0</td>\n",
       "      <td>0.7867</td>\n",
       "      <td>1386.666667</td>\n",
       "      <td>8294.117647</td>\n",
       "      <td>1069.166667</td>\n",
       "      <td>8294.117647</td>\n",
       "      <td>6</td>\n",
       "    </tr>\n",
       "    <tr>\n",
       "      <th>4</th>\n",
       "      <td>1.6</td>\n",
       "      <td>1272.0</td>\n",
       "      <td>51.0</td>\n",
       "      <td>6.5</td>\n",
       "      <td>836.0</td>\n",
       "      <td>131.0</td>\n",
       "      <td>1205.0</td>\n",
       "      <td>116.0</td>\n",
       "      <td>1490.0</td>\n",
       "      <td>1110.0</td>\n",
       "      <td>11.2</td>\n",
       "      <td>59.6</td>\n",
       "      <td>0.7888</td>\n",
       "      <td>1308.333333</td>\n",
       "      <td>7682.352941</td>\n",
       "      <td>991.666667</td>\n",
       "      <td>7682.352941</td>\n",
       "      <td>6</td>\n",
       "    </tr>\n",
       "  </tbody>\n",
       "</table>\n",
       "</div>"
      ],
      "text/plain": [
       "  CO(GT)      CO  NMHC(GT)  C6H6(GT)  PT08.S2(NMHC)  NOx(GT)  PT08.S3(NOx)  \\\n",
       "0    2.6  1360.0     150.0      11.9         1046.0    166.0        1056.0   \n",
       "1      2  1292.0     112.0       9.4          955.0    103.0        1174.0   \n",
       "2    2.2  1402.0      88.0       9.0          939.0    131.0        1140.0   \n",
       "3    2.2  1376.0      80.0       9.2          948.0    172.0        1092.0   \n",
       "4    1.6  1272.0      51.0       6.5          836.0    131.0        1205.0   \n",
       "\n",
       "   NO2(GT)     NO2      O3     T    RH      AH         NO2i          COi  \\\n",
       "0    113.0  1692.0  1268.0  13.6  48.9  0.7578  1476.666667  8200.000000   \n",
       "1     92.0  1559.0   972.0  13.3  47.7  0.7255  1365.833333  7800.000000   \n",
       "2    114.0  1555.0  1074.0  11.9  54.0  0.7502  1362.500000  8447.058824   \n",
       "3    122.0  1584.0  1203.0  11.0  60.0  0.7867  1386.666667  8294.117647   \n",
       "4    116.0  1490.0  1110.0  11.2  59.6  0.7888  1308.333333  7682.352941   \n",
       "\n",
       "           O3i          AQI  AQI_Range  \n",
       "0  1123.333333  8200.000000          6  \n",
       "1   876.666667  7800.000000          6  \n",
       "2   961.666667  8447.058824          6  \n",
       "3  1069.166667  8294.117647          6  \n",
       "4   991.666667  7682.352941          6  "
      ]
     },
     "execution_count": 84,
     "metadata": {},
     "output_type": "execute_result"
    }
   ],
   "source": [
    "def AQI_Range(ran):\n",
    "    if ran <=50:\n",
    "        return 1\n",
    "    elif ran > 50 and ran <= 100:\n",
    "        return 2\n",
    "    elif ran > 100 and ran <= 200:\n",
    "        return 3\n",
    "    elif ran > 200 and ran <= 300:\n",
    "        return 4\n",
    "    elif ran > 300 and ran <= 400:\n",
    "        return 5\n",
    "    elif ran >400:\n",
    "        return 6\n",
    "df['AQI_Range'] = df['AQI'].apply(AQI_Range)\n",
    "df.head()"
   ]
  },
  {
   "cell_type": "code",
   "execution_count": 85,
   "id": "3e4d71e0",
   "metadata": {
    "scrolled": true
   },
   "outputs": [
    {
     "data": {
      "text/html": [
       "<div>\n",
       "<style scoped>\n",
       "    .dataframe tbody tr th:only-of-type {\n",
       "        vertical-align: middle;\n",
       "    }\n",
       "\n",
       "    .dataframe tbody tr th {\n",
       "        vertical-align: top;\n",
       "    }\n",
       "\n",
       "    .dataframe thead th {\n",
       "        text-align: right;\n",
       "    }\n",
       "</style>\n",
       "<table border=\"1\" class=\"dataframe\">\n",
       "  <thead>\n",
       "    <tr style=\"text-align: right;\">\n",
       "      <th></th>\n",
       "      <th>CO(GT)</th>\n",
       "      <th>CO</th>\n",
       "      <th>NMHC(GT)</th>\n",
       "      <th>C6H6(GT)</th>\n",
       "      <th>PT08.S2(NMHC)</th>\n",
       "      <th>NOx(GT)</th>\n",
       "      <th>PT08.S3(NOx)</th>\n",
       "      <th>NO2(GT)</th>\n",
       "      <th>NO2</th>\n",
       "      <th>O3</th>\n",
       "      <th>T</th>\n",
       "      <th>RH</th>\n",
       "      <th>AH</th>\n",
       "      <th>NO2i</th>\n",
       "      <th>COi</th>\n",
       "      <th>O3i</th>\n",
       "      <th>AQI</th>\n",
       "      <th>AQI_Range</th>\n",
       "    </tr>\n",
       "  </thead>\n",
       "  <tbody>\n",
       "    <tr>\n",
       "      <th>0</th>\n",
       "      <td>2.6</td>\n",
       "      <td>1360.0</td>\n",
       "      <td>150.0</td>\n",
       "      <td>11.9</td>\n",
       "      <td>1046.0</td>\n",
       "      <td>166.0</td>\n",
       "      <td>1056.0</td>\n",
       "      <td>113.0</td>\n",
       "      <td>1692.0</td>\n",
       "      <td>1268.0</td>\n",
       "      <td>13.6</td>\n",
       "      <td>48.9</td>\n",
       "      <td>0.7578</td>\n",
       "      <td>1476.666667</td>\n",
       "      <td>8200.000000</td>\n",
       "      <td>1123.333333</td>\n",
       "      <td>8200.000000</td>\n",
       "      <td>6</td>\n",
       "    </tr>\n",
       "    <tr>\n",
       "      <th>1</th>\n",
       "      <td>2</td>\n",
       "      <td>1292.0</td>\n",
       "      <td>112.0</td>\n",
       "      <td>9.4</td>\n",
       "      <td>955.0</td>\n",
       "      <td>103.0</td>\n",
       "      <td>1174.0</td>\n",
       "      <td>92.0</td>\n",
       "      <td>1559.0</td>\n",
       "      <td>972.0</td>\n",
       "      <td>13.3</td>\n",
       "      <td>47.7</td>\n",
       "      <td>0.7255</td>\n",
       "      <td>1365.833333</td>\n",
       "      <td>7800.000000</td>\n",
       "      <td>876.666667</td>\n",
       "      <td>7800.000000</td>\n",
       "      <td>6</td>\n",
       "    </tr>\n",
       "    <tr>\n",
       "      <th>2</th>\n",
       "      <td>2.2</td>\n",
       "      <td>1402.0</td>\n",
       "      <td>88.0</td>\n",
       "      <td>9.0</td>\n",
       "      <td>939.0</td>\n",
       "      <td>131.0</td>\n",
       "      <td>1140.0</td>\n",
       "      <td>114.0</td>\n",
       "      <td>1555.0</td>\n",
       "      <td>1074.0</td>\n",
       "      <td>11.9</td>\n",
       "      <td>54.0</td>\n",
       "      <td>0.7502</td>\n",
       "      <td>1362.500000</td>\n",
       "      <td>8447.058824</td>\n",
       "      <td>961.666667</td>\n",
       "      <td>8447.058824</td>\n",
       "      <td>6</td>\n",
       "    </tr>\n",
       "    <tr>\n",
       "      <th>3</th>\n",
       "      <td>2.2</td>\n",
       "      <td>1376.0</td>\n",
       "      <td>80.0</td>\n",
       "      <td>9.2</td>\n",
       "      <td>948.0</td>\n",
       "      <td>172.0</td>\n",
       "      <td>1092.0</td>\n",
       "      <td>122.0</td>\n",
       "      <td>1584.0</td>\n",
       "      <td>1203.0</td>\n",
       "      <td>11.0</td>\n",
       "      <td>60.0</td>\n",
       "      <td>0.7867</td>\n",
       "      <td>1386.666667</td>\n",
       "      <td>8294.117647</td>\n",
       "      <td>1069.166667</td>\n",
       "      <td>8294.117647</td>\n",
       "      <td>6</td>\n",
       "    </tr>\n",
       "    <tr>\n",
       "      <th>4</th>\n",
       "      <td>1.6</td>\n",
       "      <td>1272.0</td>\n",
       "      <td>51.0</td>\n",
       "      <td>6.5</td>\n",
       "      <td>836.0</td>\n",
       "      <td>131.0</td>\n",
       "      <td>1205.0</td>\n",
       "      <td>116.0</td>\n",
       "      <td>1490.0</td>\n",
       "      <td>1110.0</td>\n",
       "      <td>11.2</td>\n",
       "      <td>59.6</td>\n",
       "      <td>0.7888</td>\n",
       "      <td>1308.333333</td>\n",
       "      <td>7682.352941</td>\n",
       "      <td>991.666667</td>\n",
       "      <td>7682.352941</td>\n",
       "      <td>6</td>\n",
       "    </tr>\n",
       "  </tbody>\n",
       "</table>\n",
       "</div>"
      ],
      "text/plain": [
       "  CO(GT)      CO  NMHC(GT)  C6H6(GT)  PT08.S2(NMHC)  NOx(GT)  PT08.S3(NOx)  \\\n",
       "0    2.6  1360.0     150.0      11.9         1046.0    166.0        1056.0   \n",
       "1      2  1292.0     112.0       9.4          955.0    103.0        1174.0   \n",
       "2    2.2  1402.0      88.0       9.0          939.0    131.0        1140.0   \n",
       "3    2.2  1376.0      80.0       9.2          948.0    172.0        1092.0   \n",
       "4    1.6  1272.0      51.0       6.5          836.0    131.0        1205.0   \n",
       "\n",
       "   NO2(GT)     NO2      O3     T    RH      AH         NO2i          COi  \\\n",
       "0    113.0  1692.0  1268.0  13.6  48.9  0.7578  1476.666667  8200.000000   \n",
       "1     92.0  1559.0   972.0  13.3  47.7  0.7255  1365.833333  7800.000000   \n",
       "2    114.0  1555.0  1074.0  11.9  54.0  0.7502  1362.500000  8447.058824   \n",
       "3    122.0  1584.0  1203.0  11.0  60.0  0.7867  1386.666667  8294.117647   \n",
       "4    116.0  1490.0  1110.0  11.2  59.6  0.7888  1308.333333  7682.352941   \n",
       "\n",
       "           O3i          AQI  AQI_Range  \n",
       "0  1123.333333  8200.000000          6  \n",
       "1   876.666667  7800.000000          6  \n",
       "2   961.666667  8447.058824          6  \n",
       "3  1069.166667  8294.117647          6  \n",
       "4   991.666667  7682.352941          6  "
      ]
     },
     "execution_count": 85,
     "metadata": {},
     "output_type": "execute_result"
    }
   ],
   "source": [
    "df.head()"
   ]
  },
  {
   "cell_type": "code",
   "execution_count": 86,
   "id": "b24fbaef",
   "metadata": {
    "scrolled": true
   },
   "outputs": [
    {
     "name": "stdout",
     "output_type": "stream",
     "text": [
      "<class 'pandas.core.frame.DataFrame'>\n",
      "RangeIndex: 9471 entries, 0 to 9470\n",
      "Data columns (total 18 columns):\n",
      " #   Column         Non-Null Count  Dtype  \n",
      "---  ------         --------------  -----  \n",
      " 0   CO(GT)         9471 non-null   object \n",
      " 1   CO             9471 non-null   float64\n",
      " 2   NMHC(GT)       9471 non-null   float64\n",
      " 3   C6H6(GT)       9471 non-null   float64\n",
      " 4   PT08.S2(NMHC)  9471 non-null   float64\n",
      " 5   NOx(GT)        9471 non-null   float64\n",
      " 6   PT08.S3(NOx)   9471 non-null   float64\n",
      " 7   NO2(GT)        9471 non-null   float64\n",
      " 8   NO2            9471 non-null   float64\n",
      " 9   O3             9471 non-null   float64\n",
      " 10  T              9471 non-null   float64\n",
      " 11  RH             9471 non-null   float64\n",
      " 12  AH             9471 non-null   float64\n",
      " 13  NO2i           8991 non-null   float64\n",
      " 14  COi            8991 non-null   float64\n",
      " 15  O3i            8751 non-null   float64\n",
      " 16  AQI            9471 non-null   float64\n",
      " 17  AQI_Range      9471 non-null   int64  \n",
      "dtypes: float64(16), int64(1), object(1)\n",
      "memory usage: 1.3+ MB\n"
     ]
    }
   ],
   "source": [
    "df.info()"
   ]
  },
  {
   "cell_type": "code",
   "execution_count": 87,
   "id": "9d2e6a5e",
   "metadata": {
    "scrolled": true
   },
   "outputs": [
    {
     "data": {
      "text/plain": [
       "6    8751\n",
       "1     720\n",
       "Name: AQI_Range, dtype: int64"
      ]
     },
     "execution_count": 87,
     "metadata": {},
     "output_type": "execute_result"
    }
   ],
   "source": [
    "df['AQI_Range'].value_counts()"
   ]
  },
  {
   "cell_type": "markdown",
   "id": "d9c0c600",
   "metadata": {},
   "source": [
    "# spiting the dataset to training and testing"
   ]
  },
  {
   "cell_type": "code",
   "execution_count": 88,
   "id": "0b981162",
   "metadata": {},
   "outputs": [],
   "source": [
    "df1 = df[['NO2i', 'COi', 'O3i', 'AQI']]"
   ]
  },
  {
   "cell_type": "code",
   "execution_count": 89,
   "id": "2caed8cc",
   "metadata": {
    "scrolled": false
   },
   "outputs": [
    {
     "name": "stderr",
     "output_type": "stream",
     "text": [
      "C:\\Users\\Ma\\AppData\\Local\\Temp\\ipykernel_5504\\3262177853.py:1: SettingWithCopyWarning: \n",
      "A value is trying to be set on a copy of a slice from a DataFrame\n",
      "\n",
      "See the caveats in the documentation: https://pandas.pydata.org/pandas-docs/stable/user_guide/indexing.html#returning-a-view-versus-a-copy\n",
      "  df1.fillna(0, inplace = True)\n"
     ]
    }
   ],
   "source": [
    "df1.fillna(0, inplace = True)"
   ]
  },
  {
   "cell_type": "code",
   "execution_count": 91,
   "id": "6dd48444",
   "metadata": {
    "scrolled": true
   },
   "outputs": [],
   "source": [
    "X = df1[['NO2i', 'COi', 'O3i']]\n",
    "Y = df1['AQI']"
   ]
  },
  {
   "cell_type": "code",
   "execution_count": 92,
   "id": "570ca26f",
   "metadata": {},
   "outputs": [
    {
     "data": {
      "text/html": [
       "<div>\n",
       "<style scoped>\n",
       "    .dataframe tbody tr th:only-of-type {\n",
       "        vertical-align: middle;\n",
       "    }\n",
       "\n",
       "    .dataframe tbody tr th {\n",
       "        vertical-align: top;\n",
       "    }\n",
       "\n",
       "    .dataframe thead th {\n",
       "        text-align: right;\n",
       "    }\n",
       "</style>\n",
       "<table border=\"1\" class=\"dataframe\">\n",
       "  <thead>\n",
       "    <tr style=\"text-align: right;\">\n",
       "      <th></th>\n",
       "      <th>NO2i</th>\n",
       "      <th>COi</th>\n",
       "      <th>O3i</th>\n",
       "    </tr>\n",
       "  </thead>\n",
       "  <tbody>\n",
       "    <tr>\n",
       "      <th>0</th>\n",
       "      <td>1476.666667</td>\n",
       "      <td>8200.000000</td>\n",
       "      <td>1123.333333</td>\n",
       "    </tr>\n",
       "    <tr>\n",
       "      <th>1</th>\n",
       "      <td>1365.833333</td>\n",
       "      <td>7800.000000</td>\n",
       "      <td>876.666667</td>\n",
       "    </tr>\n",
       "    <tr>\n",
       "      <th>2</th>\n",
       "      <td>1362.500000</td>\n",
       "      <td>8447.058824</td>\n",
       "      <td>961.666667</td>\n",
       "    </tr>\n",
       "    <tr>\n",
       "      <th>3</th>\n",
       "      <td>1386.666667</td>\n",
       "      <td>8294.117647</td>\n",
       "      <td>1069.166667</td>\n",
       "    </tr>\n",
       "    <tr>\n",
       "      <th>4</th>\n",
       "      <td>1308.333333</td>\n",
       "      <td>7682.352941</td>\n",
       "      <td>991.666667</td>\n",
       "    </tr>\n",
       "  </tbody>\n",
       "</table>\n",
       "</div>"
      ],
      "text/plain": [
       "          NO2i          COi          O3i\n",
       "0  1476.666667  8200.000000  1123.333333\n",
       "1  1365.833333  7800.000000   876.666667\n",
       "2  1362.500000  8447.058824   961.666667\n",
       "3  1386.666667  8294.117647  1069.166667\n",
       "4  1308.333333  7682.352941   991.666667"
      ]
     },
     "execution_count": 92,
     "metadata": {},
     "output_type": "execute_result"
    }
   ],
   "source": [
    "X.head()"
   ]
  },
  {
   "cell_type": "code",
   "execution_count": 93,
   "id": "e32a470a",
   "metadata": {
    "scrolled": true
   },
   "outputs": [
    {
     "data": {
      "text/plain": [
       "0    8200.000000\n",
       "1    7800.000000\n",
       "2    8447.058824\n",
       "3    8294.117647\n",
       "4    7682.352941\n",
       "Name: AQI, dtype: float64"
      ]
     },
     "execution_count": 93,
     "metadata": {},
     "output_type": "execute_result"
    }
   ],
   "source": [
    "Y.head()"
   ]
  },
  {
   "cell_type": "code",
   "execution_count": 94,
   "id": "568562fd",
   "metadata": {
    "scrolled": true
   },
   "outputs": [
    {
     "data": {
      "text/plain": [
       "NO2i    0\n",
       "COi     0\n",
       "O3i     0\n",
       "dtype: int64"
      ]
     },
     "execution_count": 94,
     "metadata": {},
     "output_type": "execute_result"
    }
   ],
   "source": [
    "X.isnull().sum()"
   ]
  },
  {
   "cell_type": "code",
   "execution_count": 95,
   "id": "444fd467",
   "metadata": {},
   "outputs": [
    {
     "data": {
      "text/plain": [
       "0"
      ]
     },
     "execution_count": 95,
     "metadata": {},
     "output_type": "execute_result"
    }
   ],
   "source": [
    "Y.isnull().sum()"
   ]
  },
  {
   "cell_type": "code",
   "execution_count": 96,
   "id": "8fe2cd79",
   "metadata": {
    "scrolled": true
   },
   "outputs": [
    {
     "data": {
      "text/plain": [
       "NO2i    0\n",
       "COi     0\n",
       "O3i     0\n",
       "AQI     0\n",
       "dtype: int64"
      ]
     },
     "execution_count": 96,
     "metadata": {},
     "output_type": "execute_result"
    }
   ],
   "source": [
    "df1.isnull().sum()"
   ]
  },
  {
   "cell_type": "code",
   "execution_count": 97,
   "id": "1f3e991b",
   "metadata": {
    "scrolled": false
   },
   "outputs": [
    {
     "name": "stdout",
     "output_type": "stream",
     "text": [
      "(7576, 3) (1895, 3) (7576,) (1895,)\n"
     ]
    }
   ],
   "source": [
    "X_train, X_test, Y_train, Y_test = train_test_split(X, Y,test_size = 0.2, random_state =70)\n",
    "print(X_train.shape, X_test.shape, Y_train.shape, Y_test.shape)"
   ]
  },
  {
   "cell_type": "markdown",
   "id": "afc4fd0b",
   "metadata": {},
   "source": [
    "# LinearRegression"
   ]
  },
  {
   "cell_type": "code",
   "execution_count": 102,
   "id": "f5d1df93",
   "metadata": {
    "scrolled": false
   },
   "outputs": [
    {
     "data": {
      "text/plain": [
       "LinearRegression()"
      ]
     },
     "execution_count": 102,
     "metadata": {},
     "output_type": "execute_result"
    }
   ],
   "source": [
    "model = LinearRegression()\n",
    "model.fit(X_train, Y_train)"
   ]
  },
  {
   "cell_type": "markdown",
   "id": "8da25ffa",
   "metadata": {},
   "source": [
    "# Predicting train and Test"
   ]
  },
  {
   "cell_type": "code",
   "execution_count": 103,
   "id": "da63abdf",
   "metadata": {
    "scrolled": true
   },
   "outputs": [
    {
     "name": "stdout",
     "output_type": "stream",
     "text": [
      "119.75965123947663 [0.56585954 0.5666217  2.10138164] 0.9107260090953325\n"
     ]
    }
   ],
   "source": [
    "print(model.intercept_, model.coef_, model.score(X, Y))"
   ]
  },
  {
   "cell_type": "code",
   "execution_count": 104,
   "id": "dfef9b92",
   "metadata": {},
   "outputs": [],
   "source": [
    "train_predict = model.predict(X_train)\n",
    "test_predict = model.predict(X_test)"
   ]
  },
  {
   "cell_type": "code",
   "execution_count": 121,
   "id": "7fd0856c",
   "metadata": {
    "scrolled": true
   },
   "outputs": [
    {
     "name": "stdout",
     "output_type": "stream",
     "text": [
      "SMSE TraningData =  639.2516625195829\n",
      "SMSE TestingData =  657.471718025261\n",
      "----------------------------------------\n",
      "RSquared value on train 0.9130279704243968\n",
      "RSquared value on test 0.9008023452888381\n"
     ]
    }
   ],
   "source": [
    "RMSE_train = (np.sqrt(metrics.mean_squared_error(Y_train,train_predict)))\n",
    "RMSE_test = (np.sqrt(metrics.mean_squared_error(Y_test,test_predict)))\n",
    "\n",
    "print(\"SMSE TraningData = \", str(RMSE_train))\n",
    "print(\"SMSE TestingData = \", str(RMSE_test))\n",
    "print('-'*40)\n",
    "print(\"RSquared value on train\", model.score(X_train, Y_train))\n",
    "print(\"RSquared value on test\", model.score(X_test, Y_test))"
   ]
  },
  {
   "cell_type": "markdown",
   "id": "3eb4ce25",
   "metadata": {},
   "source": [
    "# Decision Tree"
   ]
  },
  {
   "cell_type": "code",
   "execution_count": null,
   "id": "5eadad31",
   "metadata": {},
   "outputs": [],
   "source": [
    "DT = DecisionTreeRegressor()\n",
    "DT.fit(X_train, Y_train)"
   ]
  },
  {
   "cell_type": "markdown",
   "id": "20e524cb",
   "metadata": {},
   "source": [
    "# Predict Train"
   ]
  },
  {
   "cell_type": "code",
   "execution_count": null,
   "id": "b4bf63ea",
   "metadata": {},
   "outputs": [],
   "source": [
    "train_predict = DT.predict(X_train)"
   ]
  },
  {
   "cell_type": "markdown",
   "id": "d6ff6eda",
   "metadata": {},
   "source": [
    "# Predict Test"
   ]
  },
  {
   "cell_type": "code",
   "execution_count": null,
   "id": "6a054d59",
   "metadata": {},
   "outputs": [],
   "source": [
    "test_predict = DT.predict(X_test)"
   ]
  },
  {
   "cell_type": "code",
   "execution_count": null,
   "id": "403a2a9a",
   "metadata": {
    "scrolled": true
   },
   "outputs": [],
   "source": [
    "RMSE_train = (np.sqrt(metrics.mean_squared_error(Y_train,train_predict)))\n",
    "RMSE_test = (np.sqrt(metrics.mean_squared_error(Y_test,test_predict)))\n",
    "\n",
    "print(\"SMSE TraningData = \", str(RMSE_train))\n",
    "print(\"SMSE TraningData = \", str(RMSE_test))\n",
    "print('-'*40)\n",
    "print(\"RSquared value on train\", DT.score(X_train, Y_train))\n",
    "print(\"RSquared value on test\", DT.score(X_test, Y_test))"
   ]
  },
  {
   "cell_type": "markdown",
   "id": "ee5fba3e",
   "metadata": {},
   "source": [
    "# Random Forest"
   ]
  },
  {
   "cell_type": "code",
   "execution_count": null,
   "id": "598fbc3c",
   "metadata": {},
   "outputs": [],
   "source": [
    "RF = RandomForestRegressor()\n",
    "RF.fit(X_train, Y_train)"
   ]
  },
  {
   "cell_type": "markdown",
   "id": "10ee4d52",
   "metadata": {},
   "source": [
    "# Predict Train"
   ]
  },
  {
   "cell_type": "code",
   "execution_count": null,
   "id": "176691ae",
   "metadata": {},
   "outputs": [],
   "source": [
    "RF_train_predict = RF.predict(X_train)"
   ]
  },
  {
   "cell_type": "markdown",
   "id": "bd7efdc9",
   "metadata": {},
   "source": [
    "# Predict Test"
   ]
  },
  {
   "cell_type": "code",
   "execution_count": null,
   "id": "4b82cc22",
   "metadata": {},
   "outputs": [],
   "source": [
    "RF_test_predict = RF.predict(X_test)"
   ]
  },
  {
   "cell_type": "code",
   "execution_count": null,
   "id": "0178a9cc",
   "metadata": {},
   "outputs": [],
   "source": [
    "RMSE_train = (np.sqrt(metrics.mean_squared_error(Y_train,train_predict)))\n",
    "RMSE_test = (np.sqrt(metrics.mean_squared_error(Y_test,test_predict)))\n",
    "\n",
    "print(\"SMSE TraningData = \", str(RMSE_train))\n",
    "print(\"SMSE TraningData = \", str(RMSE_test))\n",
    "print('-'*40)\n",
    "print(\"RSquared value on train\", RF.score(X_train, Y_train))\n",
    "print(\"RSquared value on test\", RF.score(X_test, Y_test))"
   ]
  },
  {
   "cell_type": "markdown",
   "id": "045c4bdc",
   "metadata": {},
   "source": [
    "# Classification ALgorithms"
   ]
  },
  {
   "cell_type": "code",
   "execution_count": null,
   "id": "02130a94",
   "metadata": {},
   "outputs": [],
   "source": [
    "from sklearn.linear_model import LogisticRegression\n",
    "from sklearn.tree import DecisionTreeClassifier\n",
    "from sklearn.ensemble import RandomForestClassifier\n",
    "from sklearn.neighbors import KNeighborsClassifier"
   ]
  },
  {
   "cell_type": "code",
   "execution_count": null,
   "id": "4a7d3562",
   "metadata": {},
   "outputs": [],
   "source": [
    "df2 = df[['NO2i', 'COi', 'O3i', 'AQI_Range']]"
   ]
  },
  {
   "cell_type": "code",
   "execution_count": null,
   "id": "d1684232",
   "metadata": {
    "scrolled": true
   },
   "outputs": [],
   "source": [
    "df2['AQI_Range'].value_counts()"
   ]
  },
  {
   "cell_type": "code",
   "execution_count": null,
   "id": "7f38fde1",
   "metadata": {},
   "outputs": [],
   "source": [
    "df2.isnull().sum()"
   ]
  },
  {
   "cell_type": "code",
   "execution_count": null,
   "id": "5191d29e",
   "metadata": {},
   "outputs": [],
   "source": [
    "df2.fillna(0, inplace =True)"
   ]
  },
  {
   "cell_type": "code",
   "execution_count": null,
   "id": "c26da918",
   "metadata": {},
   "outputs": [],
   "source": [
    "X2 = df2[['NO2i', 'COi', 'O3i']]\n",
    "Y2 = df2['AQI_Range']"
   ]
  },
  {
   "cell_type": "code",
   "execution_count": null,
   "id": "b2a2264b",
   "metadata": {},
   "outputs": [],
   "source": [
    "#  X2.dropna(axis = 1, inplace =True)"
   ]
  },
  {
   "cell_type": "code",
   "execution_count": null,
   "id": "46b0b3e8",
   "metadata": {},
   "outputs": [],
   "source": [
    "X_train2, X_test2, Y_train2, Y_test2 = train_test_split(X2, Y2,test_size = 0.2, random_state =70)\n"
   ]
  },
  {
   "cell_type": "markdown",
   "id": "988a5d84",
   "metadata": {},
   "source": [
    "# Logistic Regression"
   ]
  },
  {
   "cell_type": "code",
   "execution_count": null,
   "id": "02c4ee27",
   "metadata": {},
   "outputs": [],
   "source": [
    "log_reg = LogisticRegression()"
   ]
  },
  {
   "cell_type": "code",
   "execution_count": null,
   "id": "7fad813f",
   "metadata": {
    "scrolled": false
   },
   "outputs": [],
   "source": [
    "log_reg.fit(X_train2, Y_train2)"
   ]
  },
  {
   "cell_type": "markdown",
   "id": "fae4292b",
   "metadata": {},
   "source": [
    "# train predict"
   ]
  },
  {
   "cell_type": "code",
   "execution_count": null,
   "id": "ee315ced",
   "metadata": {},
   "outputs": [],
   "source": [
    "train_predict2 = log_reg.predict(X_train2)"
   ]
  },
  {
   "cell_type": "markdown",
   "id": "45766ecc",
   "metadata": {},
   "source": [
    "# test predict"
   ]
  },
  {
   "cell_type": "code",
   "execution_count": null,
   "id": "d8f7efad",
   "metadata": {},
   "outputs": [],
   "source": [
    "test_predict2=log_reg.predict(X_test2)"
   ]
  },
  {
   "cell_type": "code",
   "execution_count": null,
   "id": "a9424d6c",
   "metadata": {},
   "outputs": [],
   "source": [
    "# print accuracy on train\n",
    "print(\"Model Accuracy of Train is\", accuracy_score(Y_train2, train_predict2))\n",
    "print('-'*50)\n",
    "# print accuracy on test\n",
    "print(\"Model Accuracy of Test is\", accuracy_score(Y_test2, test_predict2))\n"
   ]
  },
  {
   "cell_type": "code",
   "execution_count": null,
   "id": "00977fbb",
   "metadata": {
    "scrolled": true
   },
   "outputs": [],
   "source": [
    "log_reg.predict([[270, 3, 1]])"
   ]
  },
  {
   "cell_type": "markdown",
   "id": "a9bcd96f",
   "metadata": {},
   "source": [
    "# Decision Tree Classifier"
   ]
  },
  {
   "cell_type": "code",
   "execution_count": null,
   "id": "632591c5",
   "metadata": {},
   "outputs": [],
   "source": [
    "DT2 = DecisionTreeClassifier()"
   ]
  },
  {
   "cell_type": "code",
   "execution_count": null,
   "id": "46243ee1",
   "metadata": {
    "scrolled": true
   },
   "outputs": [],
   "source": [
    "DT2.fit(X_train2, Y_train2)"
   ]
  },
  {
   "cell_type": "markdown",
   "id": "1c4e157c",
   "metadata": {},
   "source": [
    "# predict on train"
   ]
  },
  {
   "cell_type": "code",
   "execution_count": null,
   "id": "98f116f6",
   "metadata": {},
   "outputs": [],
   "source": [
    "train_predict3 = DT2.predict(X_train2)"
   ]
  },
  {
   "cell_type": "markdown",
   "id": "bf097df2",
   "metadata": {},
   "source": [
    "# predict on test"
   ]
  },
  {
   "cell_type": "code",
   "execution_count": null,
   "id": "bbc86844",
   "metadata": {},
   "outputs": [],
   "source": [
    "test_predict3 = DT2.predict(X_test2)"
   ]
  },
  {
   "cell_type": "markdown",
   "id": "8b090fc6",
   "metadata": {},
   "source": [
    "# Accuracy on train"
   ]
  },
  {
   "cell_type": "code",
   "execution_count": null,
   "id": "2c3eb73c",
   "metadata": {},
   "outputs": [],
   "source": [
    "print(\"Model Accuracy on Train is:\", accuracy_score(Y_train2, train_predict3))\n",
    "print('-'*50)\n",
    "print(\"Model Accuracy on Test is:\", accuracy_score(Y_test2, test_predict3))"
   ]
  },
  {
   "cell_type": "markdown",
   "id": "291fdcec",
   "metadata": {},
   "source": [
    "# Random Forest Classifier"
   ]
  },
  {
   "cell_type": "code",
   "execution_count": null,
   "id": "1a57efcf",
   "metadata": {},
   "outputs": [],
   "source": [
    "RF = RandomForestClassifier().fit(X_train2, Y_train2)"
   ]
  },
  {
   "cell_type": "code",
   "execution_count": null,
   "id": "eac97a5e",
   "metadata": {
    "scrolled": true
   },
   "outputs": [],
   "source": [
    "# predict on train\n",
    "train_predict4 = RF.predict(X_train2)\n",
    "print(\"Model accuracy of train is:\", accuracy_score(Y_train2, train_predict4))\n",
    "print('-'*50)\n",
    "# predict on test\n",
    "test_predict4 = RF.predict(X_test2)\n",
    "print(\"Model Accuracy of test is:\", accuracy_score(Y_test2, test_predict4))\n"
   ]
  },
  {
   "cell_type": "code",
   "execution_count": null,
   "id": "2626d271",
   "metadata": {},
   "outputs": [],
   "source": [
    "RF.predict([[2000, 2990,20000]])"
   ]
  },
  {
   "cell_type": "markdown",
   "id": "7a4df2c9",
   "metadata": {},
   "source": [
    "# K-Nearest Neighbours"
   ]
  },
  {
   "cell_type": "code",
   "execution_count": null,
   "id": "5d10fbc1",
   "metadata": {},
   "outputs": [],
   "source": [
    "KNN = KNeighborsClassifier().fit(X_train2, Y_train2)\n"
   ]
  },
  {
   "cell_type": "code",
   "execution_count": null,
   "id": "a0404239",
   "metadata": {},
   "outputs": [],
   "source": [
    "# predict on train\n",
    "train_predict5 = KNN.predict(X_train2)\n",
    "print(\"Model accuracy of train is:\", accuracy_score(Y_train2, train_predict5))\n",
    "print('-'*50)\n",
    "# predict on test\n",
    "test_predict5 = KNN.predict(X_test2)\n",
    "print(\"Model Accuracy of test is:\", accuracy_score(Y_test2, test_predict5))"
   ]
  },
  {
   "cell_type": "code",
   "execution_count": null,
   "id": "06ef275c",
   "metadata": {
    "scrolled": true
   },
   "outputs": [],
   "source": [
    "RF.predict([[2000, 2000,1000]])"
   ]
  }
 ],
 "metadata": {
  "kernelspec": {
   "display_name": "Python 3 (ipykernel)",
   "language": "python",
   "name": "python3"
  },
  "language_info": {
   "codemirror_mode": {
    "name": "ipython",
    "version": 3
   },
   "file_extension": ".py",
   "mimetype": "text/x-python",
   "name": "python",
   "nbconvert_exporter": "python",
   "pygments_lexer": "ipython3",
   "version": "3.9.12"
  }
 },
 "nbformat": 4,
 "nbformat_minor": 5
}
